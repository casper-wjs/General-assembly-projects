{
 "cells": [
  {
   "cell_type": "markdown",
   "id": "da7890a3",
   "metadata": {},
   "source": [
    "# 4. Preprocessing & Modeling"
   ]
  },
  {
   "cell_type": "markdown",
   "id": "901cc547",
   "metadata": {},
   "source": [
    "After exploring our dataset, we now proceed to the preprocessing and modeling process of the project. "
   ]
  },
  {
   "cell_type": "markdown",
   "id": "342f0c42",
   "metadata": {},
   "source": [
    "<b>Models to be used</b>\n",
    "\n",
    "We will be training the following models:\n",
    "\n",
    "1. Linear Regression\n",
    "2. Lasso Regression\n",
    "3. Ridge Regression\n",
    "4. Random Forest Regresson\n",
    "5. XG Boost Regression\n",
    "6. Feed Forward Neural Network\n",
    "7. Neural Network with Weight Decay\n",
    "8. Neural Network with Dropout Method\n",
    "\n",
    "<b>Rationale on using these models</b>\n",
    "\n",
    "- Linear, Lasso and Ridge are more like base models and would very quickly give me an idea on the RMSE score range for this project \n",
    "- I would expect Random Forest and XG Boost to do much better than the 3 linear regression models given that they are more advanced supervised learning models\n",
    "- Lastly, I would like to test out the neural network's ability to accurately predict the resale prices as well. However we note that these networks are very 'black box' and can be very hard to interpret its result. Additionally, in order to achieve high performance, these networks usually require extremely large datasets (ideally in the millions). Therefore, it may be a too excessive model to use for this project but let's try it out anyways\n",
    "\n",
    "<b>Considerations when building the models</b>\n",
    "- The time taken to run these models, considering that our dataset is relatively large with over 200,000 rows and almost 180 columns \n",
    "\n",
    "<b>Model tuning (specificially for Random Forest and XG Boost)</b>\n",
    "- I am thinking to set a couple of hyperparameters as a first run of tuning. This will like take a few hours to gridsearch, but we would be able to quickly remove hyperparameter values which are not ideal. For subsequent runs, we can test out a smaller set of values and slowly tune the model "
   ]
  },
  {
   "cell_type": "markdown",
   "id": "57d2ffc9",
   "metadata": {},
   "source": [
    "# Imports"
   ]
  },
  {
   "cell_type": "code",
   "execution_count": 1,
   "id": "be20e947",
   "metadata": {},
   "outputs": [],
   "source": [
    "import pandas as pd\n",
    "import numpy as np\n",
    "import matplotlib.pyplot as plt\n",
    "import seaborn as sns\n",
    "import time\n",
    "import pickle\n",
    "\n",
    "from sklearn.linear_model import LinearRegression, Lasso, Ridge, LassoCV, RidgeCV\n",
    "from sklearn.ensemble import RandomForestRegressor, ExtraTreesRegressor\n",
    "from xgboost import XGBRegressor\n",
    "from sklearn.model_selection import cross_val_score, train_test_split, GridSearchCV\n",
    "from sklearn.preprocessing import StandardScaler, OneHotEncoder\n",
    "from sklearn.compose import ColumnTransformer\n",
    "from sklearn.metrics import mean_squared_error, r2_score\n",
    "from sklearn.pipeline import Pipeline"
   ]
  },
  {
   "cell_type": "code",
   "execution_count": 2,
   "id": "9f01e2d3",
   "metadata": {},
   "outputs": [],
   "source": [
    "pd.set_option('display.max_columns', 100)\n",
    "pd.set_option('display.max_rows', 100)"
   ]
  },
  {
   "cell_type": "markdown",
   "id": "9f7ef443",
   "metadata": {},
   "source": [
    "# Functions"
   ]
  },
  {
   "cell_type": "code",
   "execution_count": 3,
   "id": "cc4b69db",
   "metadata": {},
   "outputs": [],
   "source": [
    "def append_result(result, train_score, train_rmse, test_score, test_rmse, time, model):\n",
    "    tmp = pd.DataFrame({\n",
    "        'model': model,\n",
    "        'train_r2_score': train_score,\n",
    "        'train_rmse': round(train_rmse, 2),\n",
    "        'test_r2_score': test_score,\n",
    "        'test_rmse': round(test_rmse, 2), \n",
    "        'fit_time (min)': round(time, 2)\n",
    "    },index=[0])\n",
    "    \n",
    "    result = pd.concat([result, tmp], axis=0, ignore_index=True)\n",
    "    return result"
   ]
  },
  {
   "cell_type": "markdown",
   "id": "4c722c51",
   "metadata": {},
   "source": [
    "# Reading data and preprocessing"
   ]
  },
  {
   "cell_type": "code",
   "execution_count": 4,
   "id": "fde2bd11",
   "metadata": {},
   "outputs": [],
   "source": [
    "df = pd.read_csv('../datasets/final/hdb_combine (3 Nov).csv')"
   ]
  },
  {
   "cell_type": "code",
   "execution_count": 5,
   "id": "86034669",
   "metadata": {
    "scrolled": true
   },
   "outputs": [
    {
     "data": {
      "text/html": [
       "<div>\n",
       "<style scoped>\n",
       "    .dataframe tbody tr th:only-of-type {\n",
       "        vertical-align: middle;\n",
       "    }\n",
       "\n",
       "    .dataframe tbody tr th {\n",
       "        vertical-align: top;\n",
       "    }\n",
       "\n",
       "    .dataframe thead th {\n",
       "        text-align: right;\n",
       "    }\n",
       "</style>\n",
       "<table border=\"1\" class=\"dataframe\">\n",
       "  <thead>\n",
       "    <tr style=\"text-align: right;\">\n",
       "      <th></th>\n",
       "      <th>month</th>\n",
       "      <th>town</th>\n",
       "      <th>flat_type</th>\n",
       "      <th>block</th>\n",
       "      <th>street_name</th>\n",
       "      <th>storey_range</th>\n",
       "      <th>floor_area_sqm</th>\n",
       "      <th>flat_model</th>\n",
       "      <th>lease_commence_date</th>\n",
       "      <th>resale_price</th>\n",
       "      <th>longitude</th>\n",
       "      <th>latitude</th>\n",
       "      <th>year_transacted</th>\n",
       "      <th>age</th>\n",
       "      <th>resale_price_inflate</th>\n",
       "      <th>psf</th>\n",
       "      <th>floor_area_sqf</th>\n",
       "      <th>nearest_mrt_station_dist</th>\n",
       "      <th>nearest_mrt_station</th>\n",
       "      <th>nearest_primary_school_dist</th>\n",
       "      <th>nearest_primary_school</th>\n",
       "      <th>nearest_secondary_school_dist</th>\n",
       "      <th>nearest_secondary_school</th>\n",
       "      <th>nearest_mall_dist</th>\n",
       "      <th>nearest_mall</th>\n",
       "      <th>dist_cbd</th>\n",
       "      <th>avg_storey</th>\n",
       "    </tr>\n",
       "  </thead>\n",
       "  <tbody>\n",
       "    <tr>\n",
       "      <th>0</th>\n",
       "      <td>10/1/2011</td>\n",
       "      <td>ANG MO KIO</td>\n",
       "      <td>3 ROOM</td>\n",
       "      <td>174</td>\n",
       "      <td>ANG MO KIO AVE 4</td>\n",
       "      <td>01 TO 03</td>\n",
       "      <td>60.0</td>\n",
       "      <td>Improved</td>\n",
       "      <td>1986</td>\n",
       "      <td>283000.0</td>\n",
       "      <td>103.837619</td>\n",
       "      <td>1.375097</td>\n",
       "      <td>2011</td>\n",
       "      <td>35</td>\n",
       "      <td>311671.5192</td>\n",
       "      <td>438.193096</td>\n",
       "      <td>645.8340</td>\n",
       "      <td>0.420801</td>\n",
       "      <td>MAYFLOWER</td>\n",
       "      <td>0.232987</td>\n",
       "      <td>MAYFLOWER PRIMARY SCHOOL JAN 2019 - DEC 2021</td>\n",
       "      <td>0.595743</td>\n",
       "      <td>YIO CHU KANG SECONDARY SCHOOL</td>\n",
       "      <td>0.990781</td>\n",
       "      <td>BROADWAY PLAZA</td>\n",
       "      <td>10.256373</td>\n",
       "      <td>2</td>\n",
       "    </tr>\n",
       "    <tr>\n",
       "      <th>1</th>\n",
       "      <td>10/1/2011</td>\n",
       "      <td>SENGKANG</td>\n",
       "      <td>4 ROOM</td>\n",
       "      <td>259B</td>\n",
       "      <td>COMPASSVALE RD</td>\n",
       "      <td>07 TO 09</td>\n",
       "      <td>85.0</td>\n",
       "      <td>Model A2</td>\n",
       "      <td>2001</td>\n",
       "      <td>461000.0</td>\n",
       "      <td>103.897506</td>\n",
       "      <td>1.393871</td>\n",
       "      <td>2011</td>\n",
       "      <td>20</td>\n",
       "      <td>507705.1956</td>\n",
       "      <td>503.862857</td>\n",
       "      <td>914.9315</td>\n",
       "      <td>0.330347</td>\n",
       "      <td>SENGKANG</td>\n",
       "      <td>0.072371</td>\n",
       "      <td>COMPASSVALE PRIMARY SCHOOL</td>\n",
       "      <td>0.362637</td>\n",
       "      <td>COMPASSVALE SECONDARY SCHOOL</td>\n",
       "      <td>0.337984</td>\n",
       "      <td>COMPASS ONE</td>\n",
       "      <td>13.256963</td>\n",
       "      <td>8</td>\n",
       "    </tr>\n",
       "    <tr>\n",
       "      <th>2</th>\n",
       "      <td>10/1/2011</td>\n",
       "      <td>SENGKANG</td>\n",
       "      <td>4 ROOM</td>\n",
       "      <td>249</td>\n",
       "      <td>COMPASSVALE RD</td>\n",
       "      <td>10 TO 12</td>\n",
       "      <td>85.0</td>\n",
       "      <td>Model A2</td>\n",
       "      <td>2000</td>\n",
       "      <td>435000.0</td>\n",
       "      <td>103.899173</td>\n",
       "      <td>1.391762</td>\n",
       "      <td>2011</td>\n",
       "      <td>21</td>\n",
       "      <td>479071.0631</td>\n",
       "      <td>475.445430</td>\n",
       "      <td>914.9315</td>\n",
       "      <td>0.410204</td>\n",
       "      <td>SENGKANG</td>\n",
       "      <td>0.260362</td>\n",
       "      <td>SENG KANG PRIMARY SCHOOL</td>\n",
       "      <td>0.492838</td>\n",
       "      <td>COMPASSVALE SECONDARY SCHOOL</td>\n",
       "      <td>0.457340</td>\n",
       "      <td>COMPASS ONE</td>\n",
       "      <td>13.114723</td>\n",
       "      <td>11</td>\n",
       "    </tr>\n",
       "    <tr>\n",
       "      <th>3</th>\n",
       "      <td>10/1/2011</td>\n",
       "      <td>SENGKANG</td>\n",
       "      <td>4 ROOM</td>\n",
       "      <td>247</td>\n",
       "      <td>COMPASSVALE RD</td>\n",
       "      <td>07 TO 09</td>\n",
       "      <td>85.0</td>\n",
       "      <td>Model A2</td>\n",
       "      <td>2000</td>\n",
       "      <td>426000.0</td>\n",
       "      <td>103.899249</td>\n",
       "      <td>1.392092</td>\n",
       "      <td>2011</td>\n",
       "      <td>21</td>\n",
       "      <td>469159.2480</td>\n",
       "      <td>465.608628</td>\n",
       "      <td>914.9315</td>\n",
       "      <td>0.420938</td>\n",
       "      <td>SENGKANG</td>\n",
       "      <td>0.294318</td>\n",
       "      <td>SENG KANG PRIMARY SCHOOL</td>\n",
       "      <td>0.455200</td>\n",
       "      <td>COMPASSVALE SECONDARY SCHOOL</td>\n",
       "      <td>0.464680</td>\n",
       "      <td>COMPASS ONE</td>\n",
       "      <td>13.151793</td>\n",
       "      <td>8</td>\n",
       "    </tr>\n",
       "    <tr>\n",
       "      <th>4</th>\n",
       "      <td>10/1/2011</td>\n",
       "      <td>SENGKANG</td>\n",
       "      <td>4 ROOM</td>\n",
       "      <td>322A</td>\n",
       "      <td>ANCHORVALE DR</td>\n",
       "      <td>01 TO 03</td>\n",
       "      <td>85.0</td>\n",
       "      <td>Model A2</td>\n",
       "      <td>2002</td>\n",
       "      <td>430000.0</td>\n",
       "      <td>103.892314</td>\n",
       "      <td>1.391521</td>\n",
       "      <td>2011</td>\n",
       "      <td>19</td>\n",
       "      <td>473564.4992</td>\n",
       "      <td>469.980540</td>\n",
       "      <td>914.9315</td>\n",
       "      <td>0.353131</td>\n",
       "      <td>SENGKANG</td>\n",
       "      <td>0.147520</td>\n",
       "      <td>NAN CHIAU PRIMARY SCHOOL</td>\n",
       "      <td>0.867638</td>\n",
       "      <td>SENG KANG SECONDARY SCHOOL</td>\n",
       "      <td>0.312209</td>\n",
       "      <td>COMPASS ONE</td>\n",
       "      <td>12.800147</td>\n",
       "      <td>2</td>\n",
       "    </tr>\n",
       "  </tbody>\n",
       "</table>\n",
       "</div>"
      ],
      "text/plain": [
       "       month        town flat_type block       street_name storey_range  \\\n",
       "0  10/1/2011  ANG MO KIO    3 ROOM   174  ANG MO KIO AVE 4     01 TO 03   \n",
       "1  10/1/2011    SENGKANG    4 ROOM  259B    COMPASSVALE RD     07 TO 09   \n",
       "2  10/1/2011    SENGKANG    4 ROOM   249    COMPASSVALE RD     10 TO 12   \n",
       "3  10/1/2011    SENGKANG    4 ROOM   247    COMPASSVALE RD     07 TO 09   \n",
       "4  10/1/2011    SENGKANG    4 ROOM  322A     ANCHORVALE DR     01 TO 03   \n",
       "\n",
       "   floor_area_sqm flat_model  lease_commence_date  resale_price   longitude  \\\n",
       "0            60.0   Improved                 1986      283000.0  103.837619   \n",
       "1            85.0   Model A2                 2001      461000.0  103.897506   \n",
       "2            85.0   Model A2                 2000      435000.0  103.899173   \n",
       "3            85.0   Model A2                 2000      426000.0  103.899249   \n",
       "4            85.0   Model A2                 2002      430000.0  103.892314   \n",
       "\n",
       "   latitude  year_transacted  age  resale_price_inflate         psf  \\\n",
       "0  1.375097             2011   35           311671.5192  438.193096   \n",
       "1  1.393871             2011   20           507705.1956  503.862857   \n",
       "2  1.391762             2011   21           479071.0631  475.445430   \n",
       "3  1.392092             2011   21           469159.2480  465.608628   \n",
       "4  1.391521             2011   19           473564.4992  469.980540   \n",
       "\n",
       "   floor_area_sqf  nearest_mrt_station_dist nearest_mrt_station  \\\n",
       "0        645.8340                  0.420801          MAYFLOWER    \n",
       "1        914.9315                  0.330347           SENGKANG    \n",
       "2        914.9315                  0.410204           SENGKANG    \n",
       "3        914.9315                  0.420938           SENGKANG    \n",
       "4        914.9315                  0.353131           SENGKANG    \n",
       "\n",
       "   nearest_primary_school_dist                        nearest_primary_school  \\\n",
       "0                     0.232987  MAYFLOWER PRIMARY SCHOOL JAN 2019 - DEC 2021   \n",
       "1                     0.072371                    COMPASSVALE PRIMARY SCHOOL   \n",
       "2                     0.260362                      SENG KANG PRIMARY SCHOOL   \n",
       "3                     0.294318                      SENG KANG PRIMARY SCHOOL   \n",
       "4                     0.147520                      NAN CHIAU PRIMARY SCHOOL   \n",
       "\n",
       "   nearest_secondary_school_dist       nearest_secondary_school  \\\n",
       "0                       0.595743  YIO CHU KANG SECONDARY SCHOOL   \n",
       "1                       0.362637   COMPASSVALE SECONDARY SCHOOL   \n",
       "2                       0.492838   COMPASSVALE SECONDARY SCHOOL   \n",
       "3                       0.455200   COMPASSVALE SECONDARY SCHOOL   \n",
       "4                       0.867638     SENG KANG SECONDARY SCHOOL   \n",
       "\n",
       "   nearest_mall_dist    nearest_mall   dist_cbd  avg_storey  \n",
       "0           0.990781  BROADWAY PLAZA  10.256373           2  \n",
       "1           0.337984     COMPASS ONE  13.256963           8  \n",
       "2           0.457340     COMPASS ONE  13.114723          11  \n",
       "3           0.464680     COMPASS ONE  13.151793           8  \n",
       "4           0.312209     COMPASS ONE  12.800147           2  "
      ]
     },
     "execution_count": 5,
     "metadata": {},
     "output_type": "execute_result"
    }
   ],
   "source": [
    "df.head()"
   ]
  },
  {
   "cell_type": "code",
   "execution_count": 6,
   "id": "214e4c1c",
   "metadata": {},
   "outputs": [
    {
     "data": {
      "text/plain": [
       "Model A                   63618\n",
       "Improved                  52634\n",
       "New Generation            31380\n",
       "Premium Apartment         21124\n",
       "Simplified                 9752\n",
       "Apartment                  8317\n",
       "Standard                   6772\n",
       "Maisonette                 6036\n",
       "Model A2                   2803\n",
       "DBSS                       2331\n",
       "Model A-Maisonette          357\n",
       "Adjoined flat               356\n",
       "Type S1                     329\n",
       "Type S2                     166\n",
       "Multi Generation             81\n",
       "Premium Apartment Loft       75\n",
       "Improved-Maisonette          29\n",
       "Premium Maisonette           18\n",
       "2-room                       13\n",
       "Name: flat_model, dtype: int64"
      ]
     },
     "execution_count": 6,
     "metadata": {},
     "output_type": "execute_result"
    }
   ],
   "source": [
    "df['flat_model'].value_counts()"
   ]
  },
  {
   "cell_type": "markdown",
   "id": "e676df86",
   "metadata": {},
   "source": [
    "<b>Accounting for fixed effects and inflation throughout the time period</b>"
   ]
  },
  {
   "cell_type": "markdown",
   "id": "700b96a3",
   "metadata": {},
   "source": [
    "As my initial dataset was originally a time series data, my initial approach was to account for the time value of HDB prices by adjusting for inflation (as done in part 2 of my notebook under feature engineering). The assumption is that with inflation adjusted prices, we could then drop the time related data ('month' column) and train our models on the data directly. \n",
    "\n",
    "However, I learnt something new from my classmate (Ethan) today who is working on a time series project. He shared how we could add in [fixed effects](https://are.berkeley.edu/courses/EEP118/current/handouts/eep118_panel_data_fixed_effects.pdf) to account for unforeseen time based macro factors which influenced HDB prices (for example: unexpected cooling measures in 2013, Covid in 2020).\n",
    "\n",
    "We can do this by feature engineering an additional column based off the 'month' column, by assigning an abitrary value to each year to account for inflationary effects. In this case, 2011 transactions would be assigned a value of 1 while 2021 transactions would be assigned a value of 11. In this case, our target column would be the resale price at nominal value (unadjusted for inflation).\n",
    "\n",
    "Upon running this revised dataset through the models, I compared the model results against the model results from the previous dataset using inflation adjusted resale prices. The results were clear: across the board, we generally a reduction of RMSE of between 6,000 to 10,000.\n",
    "\n",
    "Note that to consolidate the notebook better and not make it too lengthy, I did not include the results of the models using the previous dataset(with inflation adjusted prices as our target column)."
   ]
  },
  {
   "cell_type": "code",
   "execution_count": 7,
   "id": "8b503ce2",
   "metadata": {},
   "outputs": [],
   "source": [
    "# creating a new dummy year column by creating a range of values beginning from 1 for entire time period\n",
    "df['year_dummy'] = df['year_transacted'] - 2010"
   ]
  },
  {
   "cell_type": "markdown",
   "id": "46ccfb6f",
   "metadata": {},
   "source": [
    "## Dummify categorical columns: town, flat_type, flat_model with OneHotEncoder"
   ]
  },
  {
   "cell_type": "code",
   "execution_count": 8,
   "id": "10c251e2",
   "metadata": {},
   "outputs": [],
   "source": [
    "enc = OneHotEncoder(drop='first')"
   ]
  },
  {
   "cell_type": "code",
   "execution_count": 10,
   "id": "b44e5da9",
   "metadata": {},
   "outputs": [],
   "source": [
    "# creating dummy variables for town, flat_type, flat_model columns\n",
    "enc_df = pd.DataFrame(enc.fit_transform(\n",
    "                    df[['town', 'flat_type', 'flat_model']]).toarray(),\n",
    "                    columns=enc.get_feature_names(['town', 'flat_type', 'flat_model']))"
   ]
  },
  {
   "cell_type": "markdown",
   "id": "b293cfba",
   "metadata": {},
   "source": [
    "After One Hot Encoding, we proceed to drop the original 3 columns: town, flat_type, flat_model"
   ]
  },
  {
   "cell_type": "code",
   "execution_count": 11,
   "id": "2cefd677",
   "metadata": {},
   "outputs": [],
   "source": [
    "df.drop(columns=['town', 'flat_type', 'flat_model', 'month'], inplace=True)"
   ]
  },
  {
   "cell_type": "code",
   "execution_count": 12,
   "id": "b87fc6f6",
   "metadata": {},
   "outputs": [],
   "source": [
    "df = df.join(enc_df)"
   ]
  },
  {
   "cell_type": "markdown",
   "id": "dec3ca40",
   "metadata": {},
   "source": [
    "We will not use the columns: block, street_name, storey_range, floor_area_sqm, lease_commence_date, resale_price_inflate, longitude and latitude data since these columns were used to feature engineer other more relevant features. In this case, we will drop them.\n",
    "\n",
    "Additionally, we will drop psf as well since it is correlated to the resale price which is our target column."
   ]
  },
  {
   "cell_type": "code",
   "execution_count": 13,
   "id": "bcf43557",
   "metadata": {},
   "outputs": [],
   "source": [
    "feature_drop = ['block', 'street_name', 'storey_range', 'floor_area_sqm', 'lease_commence_date',  'resale_price_inflate', \n",
    "                'longitude', 'latitude','psf']"
   ]
  },
  {
   "cell_type": "code",
   "execution_count": 14,
   "id": "7b4361a5",
   "metadata": {},
   "outputs": [],
   "source": [
    "df.drop(columns=feature_drop, inplace=True)"
   ]
  },
  {
   "cell_type": "markdown",
   "id": "ed8582bd",
   "metadata": {},
   "source": [
    "We will also drop columns such nearest mrt, primary school, secondary school and malls which were more relevant during the EDA process. We will also drop 'year_transacted' column as our 'resale_price_inflate' column already takes that into account."
   ]
  },
  {
   "cell_type": "code",
   "execution_count": 15,
   "id": "72f6d4fc",
   "metadata": {},
   "outputs": [],
   "source": [
    "df.drop(columns=['nearest_mrt_station', 'nearest_primary_school', 'nearest_secondary_school', 'nearest_mall', 'year_transacted'], inplace=True)"
   ]
  },
  {
   "cell_type": "code",
   "execution_count": 16,
   "id": "76abe6cd",
   "metadata": {},
   "outputs": [
    {
     "data": {
      "text/html": [
       "<div>\n",
       "<style scoped>\n",
       "    .dataframe tbody tr th:only-of-type {\n",
       "        vertical-align: middle;\n",
       "    }\n",
       "\n",
       "    .dataframe tbody tr th {\n",
       "        vertical-align: top;\n",
       "    }\n",
       "\n",
       "    .dataframe thead th {\n",
       "        text-align: right;\n",
       "    }\n",
       "</style>\n",
       "<table border=\"1\" class=\"dataframe\">\n",
       "  <thead>\n",
       "    <tr style=\"text-align: right;\">\n",
       "      <th></th>\n",
       "      <th>resale_price</th>\n",
       "      <th>age</th>\n",
       "      <th>floor_area_sqf</th>\n",
       "      <th>nearest_mrt_station_dist</th>\n",
       "      <th>nearest_primary_school_dist</th>\n",
       "      <th>nearest_secondary_school_dist</th>\n",
       "      <th>nearest_mall_dist</th>\n",
       "      <th>dist_cbd</th>\n",
       "      <th>avg_storey</th>\n",
       "      <th>year_dummy</th>\n",
       "      <th>town_BEDOK</th>\n",
       "      <th>town_BISHAN</th>\n",
       "      <th>town_BUKIT BATOK</th>\n",
       "      <th>town_BUKIT MERAH</th>\n",
       "      <th>town_BUKIT PANJANG</th>\n",
       "      <th>town_BUKIT TIMAH</th>\n",
       "      <th>town_CENTRAL AREA</th>\n",
       "      <th>town_CHOA CHU KANG</th>\n",
       "      <th>town_CLEMENTI</th>\n",
       "      <th>town_GEYLANG</th>\n",
       "      <th>town_HOUGANG</th>\n",
       "      <th>town_JURONG EAST</th>\n",
       "      <th>town_JURONG WEST</th>\n",
       "      <th>town_KALLANG/WHAMPOA</th>\n",
       "      <th>town_MARINE PARADE</th>\n",
       "      <th>town_PASIR RIS</th>\n",
       "      <th>town_PUNGGOL</th>\n",
       "      <th>town_QUEENSTOWN</th>\n",
       "      <th>town_SEMBAWANG</th>\n",
       "      <th>town_SENGKANG</th>\n",
       "      <th>town_SERANGOON</th>\n",
       "      <th>town_TAMPINES</th>\n",
       "      <th>town_TOA PAYOH</th>\n",
       "      <th>town_WOODLANDS</th>\n",
       "      <th>town_YISHUN</th>\n",
       "      <th>flat_type_2 ROOM</th>\n",
       "      <th>flat_type_3 ROOM</th>\n",
       "      <th>flat_type_4 ROOM</th>\n",
       "      <th>flat_type_5 ROOM</th>\n",
       "      <th>flat_type_EXECUTIVE</th>\n",
       "      <th>flat_type_MULTI-GENERATION</th>\n",
       "      <th>flat_model_Adjoined flat</th>\n",
       "      <th>flat_model_Apartment</th>\n",
       "      <th>flat_model_DBSS</th>\n",
       "      <th>flat_model_Improved</th>\n",
       "      <th>flat_model_Improved-Maisonette</th>\n",
       "      <th>flat_model_Maisonette</th>\n",
       "      <th>flat_model_Model A</th>\n",
       "      <th>flat_model_Model A-Maisonette</th>\n",
       "      <th>flat_model_Model A2</th>\n",
       "      <th>flat_model_Multi Generation</th>\n",
       "      <th>flat_model_New Generation</th>\n",
       "      <th>flat_model_Premium Apartment</th>\n",
       "      <th>flat_model_Premium Apartment Loft</th>\n",
       "      <th>flat_model_Premium Maisonette</th>\n",
       "      <th>flat_model_Simplified</th>\n",
       "      <th>flat_model_Standard</th>\n",
       "      <th>flat_model_Type S1</th>\n",
       "      <th>flat_model_Type S2</th>\n",
       "    </tr>\n",
       "  </thead>\n",
       "  <tbody>\n",
       "    <tr>\n",
       "      <th>0</th>\n",
       "      <td>283000.0</td>\n",
       "      <td>35</td>\n",
       "      <td>645.8340</td>\n",
       "      <td>0.420801</td>\n",
       "      <td>0.232987</td>\n",
       "      <td>0.595743</td>\n",
       "      <td>0.990781</td>\n",
       "      <td>10.256373</td>\n",
       "      <td>2</td>\n",
       "      <td>1</td>\n",
       "      <td>0.0</td>\n",
       "      <td>0.0</td>\n",
       "      <td>0.0</td>\n",
       "      <td>0.0</td>\n",
       "      <td>0.0</td>\n",
       "      <td>0.0</td>\n",
       "      <td>0.0</td>\n",
       "      <td>0.0</td>\n",
       "      <td>0.0</td>\n",
       "      <td>0.0</td>\n",
       "      <td>0.0</td>\n",
       "      <td>0.0</td>\n",
       "      <td>0.0</td>\n",
       "      <td>0.0</td>\n",
       "      <td>0.0</td>\n",
       "      <td>0.0</td>\n",
       "      <td>0.0</td>\n",
       "      <td>0.0</td>\n",
       "      <td>0.0</td>\n",
       "      <td>0.0</td>\n",
       "      <td>0.0</td>\n",
       "      <td>0.0</td>\n",
       "      <td>0.0</td>\n",
       "      <td>0.0</td>\n",
       "      <td>0.0</td>\n",
       "      <td>0.0</td>\n",
       "      <td>1.0</td>\n",
       "      <td>0.0</td>\n",
       "      <td>0.0</td>\n",
       "      <td>0.0</td>\n",
       "      <td>0.0</td>\n",
       "      <td>0.0</td>\n",
       "      <td>0.0</td>\n",
       "      <td>0.0</td>\n",
       "      <td>1.0</td>\n",
       "      <td>0.0</td>\n",
       "      <td>0.0</td>\n",
       "      <td>0.0</td>\n",
       "      <td>0.0</td>\n",
       "      <td>0.0</td>\n",
       "      <td>0.0</td>\n",
       "      <td>0.0</td>\n",
       "      <td>0.0</td>\n",
       "      <td>0.0</td>\n",
       "      <td>0.0</td>\n",
       "      <td>0.0</td>\n",
       "      <td>0.0</td>\n",
       "      <td>0.0</td>\n",
       "      <td>0.0</td>\n",
       "    </tr>\n",
       "    <tr>\n",
       "      <th>1</th>\n",
       "      <td>461000.0</td>\n",
       "      <td>20</td>\n",
       "      <td>914.9315</td>\n",
       "      <td>0.330347</td>\n",
       "      <td>0.072371</td>\n",
       "      <td>0.362637</td>\n",
       "      <td>0.337984</td>\n",
       "      <td>13.256963</td>\n",
       "      <td>8</td>\n",
       "      <td>1</td>\n",
       "      <td>0.0</td>\n",
       "      <td>0.0</td>\n",
       "      <td>0.0</td>\n",
       "      <td>0.0</td>\n",
       "      <td>0.0</td>\n",
       "      <td>0.0</td>\n",
       "      <td>0.0</td>\n",
       "      <td>0.0</td>\n",
       "      <td>0.0</td>\n",
       "      <td>0.0</td>\n",
       "      <td>0.0</td>\n",
       "      <td>0.0</td>\n",
       "      <td>0.0</td>\n",
       "      <td>0.0</td>\n",
       "      <td>0.0</td>\n",
       "      <td>0.0</td>\n",
       "      <td>0.0</td>\n",
       "      <td>0.0</td>\n",
       "      <td>0.0</td>\n",
       "      <td>1.0</td>\n",
       "      <td>0.0</td>\n",
       "      <td>0.0</td>\n",
       "      <td>0.0</td>\n",
       "      <td>0.0</td>\n",
       "      <td>0.0</td>\n",
       "      <td>0.0</td>\n",
       "      <td>0.0</td>\n",
       "      <td>1.0</td>\n",
       "      <td>0.0</td>\n",
       "      <td>0.0</td>\n",
       "      <td>0.0</td>\n",
       "      <td>0.0</td>\n",
       "      <td>0.0</td>\n",
       "      <td>0.0</td>\n",
       "      <td>0.0</td>\n",
       "      <td>0.0</td>\n",
       "      <td>0.0</td>\n",
       "      <td>0.0</td>\n",
       "      <td>0.0</td>\n",
       "      <td>1.0</td>\n",
       "      <td>0.0</td>\n",
       "      <td>0.0</td>\n",
       "      <td>0.0</td>\n",
       "      <td>0.0</td>\n",
       "      <td>0.0</td>\n",
       "      <td>0.0</td>\n",
       "      <td>0.0</td>\n",
       "      <td>0.0</td>\n",
       "      <td>0.0</td>\n",
       "    </tr>\n",
       "    <tr>\n",
       "      <th>2</th>\n",
       "      <td>435000.0</td>\n",
       "      <td>21</td>\n",
       "      <td>914.9315</td>\n",
       "      <td>0.410204</td>\n",
       "      <td>0.260362</td>\n",
       "      <td>0.492838</td>\n",
       "      <td>0.457340</td>\n",
       "      <td>13.114723</td>\n",
       "      <td>11</td>\n",
       "      <td>1</td>\n",
       "      <td>0.0</td>\n",
       "      <td>0.0</td>\n",
       "      <td>0.0</td>\n",
       "      <td>0.0</td>\n",
       "      <td>0.0</td>\n",
       "      <td>0.0</td>\n",
       "      <td>0.0</td>\n",
       "      <td>0.0</td>\n",
       "      <td>0.0</td>\n",
       "      <td>0.0</td>\n",
       "      <td>0.0</td>\n",
       "      <td>0.0</td>\n",
       "      <td>0.0</td>\n",
       "      <td>0.0</td>\n",
       "      <td>0.0</td>\n",
       "      <td>0.0</td>\n",
       "      <td>0.0</td>\n",
       "      <td>0.0</td>\n",
       "      <td>0.0</td>\n",
       "      <td>1.0</td>\n",
       "      <td>0.0</td>\n",
       "      <td>0.0</td>\n",
       "      <td>0.0</td>\n",
       "      <td>0.0</td>\n",
       "      <td>0.0</td>\n",
       "      <td>0.0</td>\n",
       "      <td>0.0</td>\n",
       "      <td>1.0</td>\n",
       "      <td>0.0</td>\n",
       "      <td>0.0</td>\n",
       "      <td>0.0</td>\n",
       "      <td>0.0</td>\n",
       "      <td>0.0</td>\n",
       "      <td>0.0</td>\n",
       "      <td>0.0</td>\n",
       "      <td>0.0</td>\n",
       "      <td>0.0</td>\n",
       "      <td>0.0</td>\n",
       "      <td>0.0</td>\n",
       "      <td>1.0</td>\n",
       "      <td>0.0</td>\n",
       "      <td>0.0</td>\n",
       "      <td>0.0</td>\n",
       "      <td>0.0</td>\n",
       "      <td>0.0</td>\n",
       "      <td>0.0</td>\n",
       "      <td>0.0</td>\n",
       "      <td>0.0</td>\n",
       "      <td>0.0</td>\n",
       "    </tr>\n",
       "    <tr>\n",
       "      <th>3</th>\n",
       "      <td>426000.0</td>\n",
       "      <td>21</td>\n",
       "      <td>914.9315</td>\n",
       "      <td>0.420938</td>\n",
       "      <td>0.294318</td>\n",
       "      <td>0.455200</td>\n",
       "      <td>0.464680</td>\n",
       "      <td>13.151793</td>\n",
       "      <td>8</td>\n",
       "      <td>1</td>\n",
       "      <td>0.0</td>\n",
       "      <td>0.0</td>\n",
       "      <td>0.0</td>\n",
       "      <td>0.0</td>\n",
       "      <td>0.0</td>\n",
       "      <td>0.0</td>\n",
       "      <td>0.0</td>\n",
       "      <td>0.0</td>\n",
       "      <td>0.0</td>\n",
       "      <td>0.0</td>\n",
       "      <td>0.0</td>\n",
       "      <td>0.0</td>\n",
       "      <td>0.0</td>\n",
       "      <td>0.0</td>\n",
       "      <td>0.0</td>\n",
       "      <td>0.0</td>\n",
       "      <td>0.0</td>\n",
       "      <td>0.0</td>\n",
       "      <td>0.0</td>\n",
       "      <td>1.0</td>\n",
       "      <td>0.0</td>\n",
       "      <td>0.0</td>\n",
       "      <td>0.0</td>\n",
       "      <td>0.0</td>\n",
       "      <td>0.0</td>\n",
       "      <td>0.0</td>\n",
       "      <td>0.0</td>\n",
       "      <td>1.0</td>\n",
       "      <td>0.0</td>\n",
       "      <td>0.0</td>\n",
       "      <td>0.0</td>\n",
       "      <td>0.0</td>\n",
       "      <td>0.0</td>\n",
       "      <td>0.0</td>\n",
       "      <td>0.0</td>\n",
       "      <td>0.0</td>\n",
       "      <td>0.0</td>\n",
       "      <td>0.0</td>\n",
       "      <td>0.0</td>\n",
       "      <td>1.0</td>\n",
       "      <td>0.0</td>\n",
       "      <td>0.0</td>\n",
       "      <td>0.0</td>\n",
       "      <td>0.0</td>\n",
       "      <td>0.0</td>\n",
       "      <td>0.0</td>\n",
       "      <td>0.0</td>\n",
       "      <td>0.0</td>\n",
       "      <td>0.0</td>\n",
       "    </tr>\n",
       "    <tr>\n",
       "      <th>4</th>\n",
       "      <td>430000.0</td>\n",
       "      <td>19</td>\n",
       "      <td>914.9315</td>\n",
       "      <td>0.353131</td>\n",
       "      <td>0.147520</td>\n",
       "      <td>0.867638</td>\n",
       "      <td>0.312209</td>\n",
       "      <td>12.800147</td>\n",
       "      <td>2</td>\n",
       "      <td>1</td>\n",
       "      <td>0.0</td>\n",
       "      <td>0.0</td>\n",
       "      <td>0.0</td>\n",
       "      <td>0.0</td>\n",
       "      <td>0.0</td>\n",
       "      <td>0.0</td>\n",
       "      <td>0.0</td>\n",
       "      <td>0.0</td>\n",
       "      <td>0.0</td>\n",
       "      <td>0.0</td>\n",
       "      <td>0.0</td>\n",
       "      <td>0.0</td>\n",
       "      <td>0.0</td>\n",
       "      <td>0.0</td>\n",
       "      <td>0.0</td>\n",
       "      <td>0.0</td>\n",
       "      <td>0.0</td>\n",
       "      <td>0.0</td>\n",
       "      <td>0.0</td>\n",
       "      <td>1.0</td>\n",
       "      <td>0.0</td>\n",
       "      <td>0.0</td>\n",
       "      <td>0.0</td>\n",
       "      <td>0.0</td>\n",
       "      <td>0.0</td>\n",
       "      <td>0.0</td>\n",
       "      <td>0.0</td>\n",
       "      <td>1.0</td>\n",
       "      <td>0.0</td>\n",
       "      <td>0.0</td>\n",
       "      <td>0.0</td>\n",
       "      <td>0.0</td>\n",
       "      <td>0.0</td>\n",
       "      <td>0.0</td>\n",
       "      <td>0.0</td>\n",
       "      <td>0.0</td>\n",
       "      <td>0.0</td>\n",
       "      <td>0.0</td>\n",
       "      <td>0.0</td>\n",
       "      <td>1.0</td>\n",
       "      <td>0.0</td>\n",
       "      <td>0.0</td>\n",
       "      <td>0.0</td>\n",
       "      <td>0.0</td>\n",
       "      <td>0.0</td>\n",
       "      <td>0.0</td>\n",
       "      <td>0.0</td>\n",
       "      <td>0.0</td>\n",
       "      <td>0.0</td>\n",
       "    </tr>\n",
       "  </tbody>\n",
       "</table>\n",
       "</div>"
      ],
      "text/plain": [
       "   resale_price  age  floor_area_sqf  nearest_mrt_station_dist  \\\n",
       "0      283000.0   35        645.8340                  0.420801   \n",
       "1      461000.0   20        914.9315                  0.330347   \n",
       "2      435000.0   21        914.9315                  0.410204   \n",
       "3      426000.0   21        914.9315                  0.420938   \n",
       "4      430000.0   19        914.9315                  0.353131   \n",
       "\n",
       "   nearest_primary_school_dist  nearest_secondary_school_dist  \\\n",
       "0                     0.232987                       0.595743   \n",
       "1                     0.072371                       0.362637   \n",
       "2                     0.260362                       0.492838   \n",
       "3                     0.294318                       0.455200   \n",
       "4                     0.147520                       0.867638   \n",
       "\n",
       "   nearest_mall_dist   dist_cbd  avg_storey  year_dummy  town_BEDOK  \\\n",
       "0           0.990781  10.256373           2           1         0.0   \n",
       "1           0.337984  13.256963           8           1         0.0   \n",
       "2           0.457340  13.114723          11           1         0.0   \n",
       "3           0.464680  13.151793           8           1         0.0   \n",
       "4           0.312209  12.800147           2           1         0.0   \n",
       "\n",
       "   town_BISHAN  town_BUKIT BATOK  town_BUKIT MERAH  town_BUKIT PANJANG  \\\n",
       "0          0.0               0.0               0.0                 0.0   \n",
       "1          0.0               0.0               0.0                 0.0   \n",
       "2          0.0               0.0               0.0                 0.0   \n",
       "3          0.0               0.0               0.0                 0.0   \n",
       "4          0.0               0.0               0.0                 0.0   \n",
       "\n",
       "   town_BUKIT TIMAH  town_CENTRAL AREA  town_CHOA CHU KANG  town_CLEMENTI  \\\n",
       "0               0.0                0.0                 0.0            0.0   \n",
       "1               0.0                0.0                 0.0            0.0   \n",
       "2               0.0                0.0                 0.0            0.0   \n",
       "3               0.0                0.0                 0.0            0.0   \n",
       "4               0.0                0.0                 0.0            0.0   \n",
       "\n",
       "   town_GEYLANG  town_HOUGANG  town_JURONG EAST  town_JURONG WEST  \\\n",
       "0           0.0           0.0               0.0               0.0   \n",
       "1           0.0           0.0               0.0               0.0   \n",
       "2           0.0           0.0               0.0               0.0   \n",
       "3           0.0           0.0               0.0               0.0   \n",
       "4           0.0           0.0               0.0               0.0   \n",
       "\n",
       "   town_KALLANG/WHAMPOA  town_MARINE PARADE  town_PASIR RIS  town_PUNGGOL  \\\n",
       "0                   0.0                 0.0             0.0           0.0   \n",
       "1                   0.0                 0.0             0.0           0.0   \n",
       "2                   0.0                 0.0             0.0           0.0   \n",
       "3                   0.0                 0.0             0.0           0.0   \n",
       "4                   0.0                 0.0             0.0           0.0   \n",
       "\n",
       "   town_QUEENSTOWN  town_SEMBAWANG  town_SENGKANG  town_SERANGOON  \\\n",
       "0              0.0             0.0            0.0             0.0   \n",
       "1              0.0             0.0            1.0             0.0   \n",
       "2              0.0             0.0            1.0             0.0   \n",
       "3              0.0             0.0            1.0             0.0   \n",
       "4              0.0             0.0            1.0             0.0   \n",
       "\n",
       "   town_TAMPINES  town_TOA PAYOH  town_WOODLANDS  town_YISHUN  \\\n",
       "0            0.0             0.0             0.0          0.0   \n",
       "1            0.0             0.0             0.0          0.0   \n",
       "2            0.0             0.0             0.0          0.0   \n",
       "3            0.0             0.0             0.0          0.0   \n",
       "4            0.0             0.0             0.0          0.0   \n",
       "\n",
       "   flat_type_2 ROOM  flat_type_3 ROOM  flat_type_4 ROOM  flat_type_5 ROOM  \\\n",
       "0               0.0               1.0               0.0               0.0   \n",
       "1               0.0               0.0               1.0               0.0   \n",
       "2               0.0               0.0               1.0               0.0   \n",
       "3               0.0               0.0               1.0               0.0   \n",
       "4               0.0               0.0               1.0               0.0   \n",
       "\n",
       "   flat_type_EXECUTIVE  flat_type_MULTI-GENERATION  flat_model_Adjoined flat  \\\n",
       "0                  0.0                         0.0                       0.0   \n",
       "1                  0.0                         0.0                       0.0   \n",
       "2                  0.0                         0.0                       0.0   \n",
       "3                  0.0                         0.0                       0.0   \n",
       "4                  0.0                         0.0                       0.0   \n",
       "\n",
       "   flat_model_Apartment  flat_model_DBSS  flat_model_Improved  \\\n",
       "0                   0.0              0.0                  1.0   \n",
       "1                   0.0              0.0                  0.0   \n",
       "2                   0.0              0.0                  0.0   \n",
       "3                   0.0              0.0                  0.0   \n",
       "4                   0.0              0.0                  0.0   \n",
       "\n",
       "   flat_model_Improved-Maisonette  flat_model_Maisonette  flat_model_Model A  \\\n",
       "0                             0.0                    0.0                 0.0   \n",
       "1                             0.0                    0.0                 0.0   \n",
       "2                             0.0                    0.0                 0.0   \n",
       "3                             0.0                    0.0                 0.0   \n",
       "4                             0.0                    0.0                 0.0   \n",
       "\n",
       "   flat_model_Model A-Maisonette  flat_model_Model A2  \\\n",
       "0                            0.0                  0.0   \n",
       "1                            0.0                  1.0   \n",
       "2                            0.0                  1.0   \n",
       "3                            0.0                  1.0   \n",
       "4                            0.0                  1.0   \n",
       "\n",
       "   flat_model_Multi Generation  flat_model_New Generation  \\\n",
       "0                          0.0                        0.0   \n",
       "1                          0.0                        0.0   \n",
       "2                          0.0                        0.0   \n",
       "3                          0.0                        0.0   \n",
       "4                          0.0                        0.0   \n",
       "\n",
       "   flat_model_Premium Apartment  flat_model_Premium Apartment Loft  \\\n",
       "0                           0.0                                0.0   \n",
       "1                           0.0                                0.0   \n",
       "2                           0.0                                0.0   \n",
       "3                           0.0                                0.0   \n",
       "4                           0.0                                0.0   \n",
       "\n",
       "   flat_model_Premium Maisonette  flat_model_Simplified  flat_model_Standard  \\\n",
       "0                            0.0                    0.0                  0.0   \n",
       "1                            0.0                    0.0                  0.0   \n",
       "2                            0.0                    0.0                  0.0   \n",
       "3                            0.0                    0.0                  0.0   \n",
       "4                            0.0                    0.0                  0.0   \n",
       "\n",
       "   flat_model_Type S1  flat_model_Type S2  \n",
       "0                 0.0                 0.0  \n",
       "1                 0.0                 0.0  \n",
       "2                 0.0                 0.0  \n",
       "3                 0.0                 0.0  \n",
       "4                 0.0                 0.0  "
      ]
     },
     "execution_count": 16,
     "metadata": {},
     "output_type": "execute_result"
    }
   ],
   "source": [
    "df.head()"
   ]
  },
  {
   "cell_type": "markdown",
   "id": "bb4545af",
   "metadata": {},
   "source": [
    "# Baseline model"
   ]
  },
  {
   "cell_type": "markdown",
   "id": "b65318c9",
   "metadata": {},
   "source": [
    "Our baseline model will use the mean of resale prices in the train set as the predictor of sale prices in the test set."
   ]
  },
  {
   "cell_type": "code",
   "execution_count": 17,
   "id": "9ba53475",
   "metadata": {},
   "outputs": [],
   "source": [
    "X = df[['floor_area_sqf']]\n",
    "y = df['resale_price']  "
   ]
  },
  {
   "cell_type": "code",
   "execution_count": 18,
   "id": "1b31deb4",
   "metadata": {},
   "outputs": [],
   "source": [
    "X_train, X_test, y_train, y_test = train_test_split(X, y, random_state=100)"
   ]
  },
  {
   "cell_type": "code",
   "execution_count": 19,
   "id": "5fc2d9b3",
   "metadata": {},
   "outputs": [
    {
     "data": {
      "text/plain": [
       "453112.32"
      ]
     },
     "execution_count": 19,
     "metadata": {},
     "output_type": "execute_result"
    }
   ],
   "source": [
    "# Baseline predictor \n",
    "y_pred = round(y_train.mean(), 2)\n",
    "y_pred"
   ]
  },
  {
   "cell_type": "code",
   "execution_count": 20,
   "id": "93f4aee9",
   "metadata": {
    "scrolled": true
   },
   "outputs": [
    {
     "name": "stdout",
     "output_type": "stream",
     "text": [
      "The RMSE score on the train set 144231.76\n"
     ]
    }
   ],
   "source": [
    "print(f'The RMSE score on the train set {round(np.sqrt(mean_squared_error(y_train, [y_pred] * len(y_train))), 2)}')"
   ]
  },
  {
   "cell_type": "code",
   "execution_count": 21,
   "id": "997779a9",
   "metadata": {},
   "outputs": [
    {
     "name": "stdout",
     "output_type": "stream",
     "text": [
      "The RMSE score on the test set 142974.59\n"
     ]
    }
   ],
   "source": [
    "print(f'The RMSE score on the test set {round(np.sqrt(mean_squared_error(y_test, [y_pred] * len(y_test))), 2)}')"
   ]
  },
  {
   "cell_type": "markdown",
   "id": "eee10299",
   "metadata": {},
   "source": [
    "# Linear Regression model with 1 feature"
   ]
  },
  {
   "cell_type": "markdown",
   "id": "4c57c6df",
   "metadata": {},
   "source": [
    "We will set the baseline model as only having 1 feature which is the sqf area of the HDB apartments."
   ]
  },
  {
   "cell_type": "code",
   "execution_count": 22,
   "id": "94957d8e",
   "metadata": {},
   "outputs": [],
   "source": [
    "X = df[['floor_area_sqf']]\n",
    "y = df['resale_price']  "
   ]
  },
  {
   "cell_type": "code",
   "execution_count": 23,
   "id": "3ed50bf3",
   "metadata": {},
   "outputs": [],
   "source": [
    "X_train, X_test, y_train, y_test = train_test_split(X, y, random_state=100)"
   ]
  },
  {
   "cell_type": "code",
   "execution_count": 24,
   "id": "5fc27325",
   "metadata": {},
   "outputs": [],
   "source": [
    "# Instantiate the model\n",
    "lr = LinearRegression()"
   ]
  },
  {
   "cell_type": "code",
   "execution_count": 25,
   "id": "d4b850ee",
   "metadata": {},
   "outputs": [],
   "source": [
    "start = time.time()\n",
    "\n",
    "# Fit the data to the model\n",
    "lr.fit(X_train, y_train)\n",
    "\n",
    "end = time.time()"
   ]
  },
  {
   "cell_type": "code",
   "execution_count": 26,
   "id": "49ef6611",
   "metadata": {},
   "outputs": [
    {
     "data": {
      "text/plain": [
       "0.4246939198100894"
      ]
     },
     "execution_count": 26,
     "metadata": {},
     "output_type": "execute_result"
    }
   ],
   "source": [
    "cross_val_score(lr, X_train, y_train, cv=5).mean()"
   ]
  },
  {
   "cell_type": "code",
   "execution_count": 27,
   "id": "f2a76030",
   "metadata": {},
   "outputs": [],
   "source": [
    "# train r2 score\n",
    "train_score = lr.score(X_train, y_train)\n",
    "# test r2 score\n",
    "test_score = lr.score(X_test, y_test)\n",
    "# RMSE on train set\n",
    "train_rmse = np.sqrt(mean_squared_error(y_train, lr.predict(X_train)))\n",
    "# RMSE on test set\n",
    "test_rmse = np.sqrt(mean_squared_error(y_test, lr.predict(X_test)))\n",
    "# time taken to fit model\n",
    "fit_time = (end - start) / 60"
   ]
  },
  {
   "cell_type": "code",
   "execution_count": 28,
   "id": "ab82c46f",
   "metadata": {},
   "outputs": [],
   "source": [
    "results_df = pd.DataFrame(columns=[\n",
    "    'model',\n",
    "    'train_r2_score',\n",
    "    'train_rmse',\n",
    "    'test_r2_score',\n",
    "    'test_rmse',\n",
    "    'fit_time (min)'\n",
    "])"
   ]
  },
  {
   "cell_type": "code",
   "execution_count": 29,
   "id": "e9ff2799",
   "metadata": {},
   "outputs": [],
   "source": [
    "results_df = append_result(results_df, train_score, train_rmse, test_score, test_rmse, fit_time, \n",
    "                           'Linear Regression (1 feature)')"
   ]
  },
  {
   "cell_type": "code",
   "execution_count": 30,
   "id": "13bbea8f",
   "metadata": {},
   "outputs": [
    {
     "data": {
      "text/html": [
       "<div>\n",
       "<style scoped>\n",
       "    .dataframe tbody tr th:only-of-type {\n",
       "        vertical-align: middle;\n",
       "    }\n",
       "\n",
       "    .dataframe tbody tr th {\n",
       "        vertical-align: top;\n",
       "    }\n",
       "\n",
       "    .dataframe thead th {\n",
       "        text-align: right;\n",
       "    }\n",
       "</style>\n",
       "<table border=\"1\" class=\"dataframe\">\n",
       "  <thead>\n",
       "    <tr style=\"text-align: right;\">\n",
       "      <th></th>\n",
       "      <th>model</th>\n",
       "      <th>train_r2_score</th>\n",
       "      <th>train_rmse</th>\n",
       "      <th>test_r2_score</th>\n",
       "      <th>test_rmse</th>\n",
       "      <th>fit_time (min)</th>\n",
       "    </tr>\n",
       "  </thead>\n",
       "  <tbody>\n",
       "    <tr>\n",
       "      <th>0</th>\n",
       "      <td>Linear Regression (1 feature)</td>\n",
       "      <td>0.424661</td>\n",
       "      <td>109401.4</td>\n",
       "      <td>0.431538</td>\n",
       "      <td>107794.18</td>\n",
       "      <td>0.0</td>\n",
       "    </tr>\n",
       "  </tbody>\n",
       "</table>\n",
       "</div>"
      ],
      "text/plain": [
       "                           model  train_r2_score  train_rmse  test_r2_score  \\\n",
       "0  Linear Regression (1 feature)        0.424661    109401.4       0.431538   \n",
       "\n",
       "   test_rmse  fit_time (min)  \n",
       "0  107794.18             0.0  "
      ]
     },
     "execution_count": 30,
     "metadata": {},
     "output_type": "execute_result"
    }
   ],
   "source": [
    "results_df"
   ]
  },
  {
   "cell_type": "markdown",
   "id": "f04affd6",
   "metadata": {},
   "source": [
    "# Scale data"
   ]
  },
  {
   "cell_type": "code",
   "execution_count": 31,
   "id": "b4145aa4",
   "metadata": {},
   "outputs": [],
   "source": [
    "# define X and y\n",
    "X = df.drop(columns='resale_price')                \n",
    "y = df['resale_price']                            "
   ]
  },
  {
   "cell_type": "code",
   "execution_count": 32,
   "id": "bb814931",
   "metadata": {},
   "outputs": [],
   "source": [
    "X_train, X_test, y_train, y_test = train_test_split(X, y, random_state=100)"
   ]
  },
  {
   "cell_type": "code",
   "execution_count": 33,
   "id": "92f60dad",
   "metadata": {},
   "outputs": [],
   "source": [
    "# using ColumnTransformer to standardscale only the continuous columns and not dummy columns\n",
    "\n",
    "ct = ColumnTransformer([\n",
    "    ('transform', StandardScaler(), ['age',\n",
    "       'nearest_mrt_station_dist', 'nearest_primary_school_dist',\n",
    "       'nearest_secondary_school_dist', 'nearest_mall_dist', 'dist_cbd',\n",
    "       'avg_storey', 'floor_area_sqf'])\n",
    "], remainder='passthrough')"
   ]
  },
  {
   "cell_type": "code",
   "execution_count": 34,
   "id": "63ed0bee",
   "metadata": {},
   "outputs": [],
   "source": [
    "X_train_sc = ct.fit_transform(X_train)\n",
    "X_test_sc = ct.transform(X_test)"
   ]
  },
  {
   "cell_type": "code",
   "execution_count": 35,
   "id": "3b32b738",
   "metadata": {},
   "outputs": [],
   "source": [
    "# to save X_train, X_test, y_train, y_test to run neural network models in another notebook\n",
    "\n",
    "X_train.to_csv('../datasets/final/X_train.csv', index=False)\n",
    "X_test.to_csv('../datasets/final/X_test.csv', index=False)\n",
    "y_train.to_csv('../datasets/final/y_train.csv', index=False)\n",
    "y_test.to_csv('../datasets/final/y_test.csv', index=False)"
   ]
  },
  {
   "cell_type": "markdown",
   "id": "b12d28de",
   "metadata": {},
   "source": [
    "# Linear Regression model with all features"
   ]
  },
  {
   "cell_type": "code",
   "execution_count": 36,
   "id": "2fec0215",
   "metadata": {},
   "outputs": [],
   "source": [
    "# Instantiate the model\n",
    "lr = LinearRegression()"
   ]
  },
  {
   "cell_type": "code",
   "execution_count": 37,
   "id": "c88772f0",
   "metadata": {},
   "outputs": [],
   "source": [
    "start = time.time()\n",
    "\n",
    "# Fit the data to the model\n",
    "lr.fit(X_train_sc, y_train)\n",
    "\n",
    "end = time.time()"
   ]
  },
  {
   "cell_type": "code",
   "execution_count": 38,
   "id": "e25beb28",
   "metadata": {
    "scrolled": true
   },
   "outputs": [
    {
     "data": {
      "text/plain": [
       "0.8681336706472031"
      ]
     },
     "execution_count": 38,
     "metadata": {},
     "output_type": "execute_result"
    }
   ],
   "source": [
    "cross_val_score(lr, X_train_sc, y_train, cv=5).mean()"
   ]
  },
  {
   "cell_type": "code",
   "execution_count": 39,
   "id": "569dd4ae",
   "metadata": {},
   "outputs": [],
   "source": [
    "# train r2 score\n",
    "train_score = lr.score(X_train_sc, y_train)\n",
    "# test r2 score\n",
    "test_score = lr.score(X_test_sc, y_test)\n",
    "# RMSE on train set\n",
    "train_rmse = np.sqrt(mean_squared_error(y_train, lr.predict(X_train_sc)))\n",
    "# RMSE on test set\n",
    "test_rmse = np.sqrt(mean_squared_error(y_test, lr.predict(X_test_sc)))\n",
    "# time taken to fit model\n",
    "fit_time = (end - start) / 60"
   ]
  },
  {
   "cell_type": "code",
   "execution_count": 40,
   "id": "d4fe9ad8",
   "metadata": {},
   "outputs": [
    {
     "data": {
      "text/html": [
       "<div>\n",
       "<style scoped>\n",
       "    .dataframe tbody tr th:only-of-type {\n",
       "        vertical-align: middle;\n",
       "    }\n",
       "\n",
       "    .dataframe tbody tr th {\n",
       "        vertical-align: top;\n",
       "    }\n",
       "\n",
       "    .dataframe thead th {\n",
       "        text-align: right;\n",
       "    }\n",
       "</style>\n",
       "<table border=\"1\" class=\"dataframe\">\n",
       "  <thead>\n",
       "    <tr style=\"text-align: right;\">\n",
       "      <th></th>\n",
       "      <th>model</th>\n",
       "      <th>train_r2_score</th>\n",
       "      <th>train_rmse</th>\n",
       "      <th>test_r2_score</th>\n",
       "      <th>test_rmse</th>\n",
       "      <th>fit_time (min)</th>\n",
       "    </tr>\n",
       "  </thead>\n",
       "  <tbody>\n",
       "    <tr>\n",
       "      <th>0</th>\n",
       "      <td>Linear Regression (1 feature)</td>\n",
       "      <td>0.424661</td>\n",
       "      <td>109401.40</td>\n",
       "      <td>0.431538</td>\n",
       "      <td>107794.18</td>\n",
       "      <td>0.0</td>\n",
       "    </tr>\n",
       "    <tr>\n",
       "      <th>1</th>\n",
       "      <td>Linear Regression (all features)</td>\n",
       "      <td>0.868281</td>\n",
       "      <td>52346.16</td>\n",
       "      <td>0.867689</td>\n",
       "      <td>52004.64</td>\n",
       "      <td>0.0</td>\n",
       "    </tr>\n",
       "  </tbody>\n",
       "</table>\n",
       "</div>"
      ],
      "text/plain": [
       "                              model  train_r2_score  train_rmse  \\\n",
       "0     Linear Regression (1 feature)        0.424661   109401.40   \n",
       "1  Linear Regression (all features)        0.868281    52346.16   \n",
       "\n",
       "   test_r2_score  test_rmse  fit_time (min)  \n",
       "0       0.431538  107794.18             0.0  \n",
       "1       0.867689   52004.64             0.0  "
      ]
     },
     "execution_count": 40,
     "metadata": {},
     "output_type": "execute_result"
    }
   ],
   "source": [
    "results_df = append_result(results_df, train_score, train_rmse, test_score, test_rmse, fit_time, \n",
    "                           'Linear Regression (all features)')\n",
    "results_df"
   ]
  },
  {
   "cell_type": "markdown",
   "id": "8db0d449",
   "metadata": {},
   "source": [
    "# Lasso Regression"
   ]
  },
  {
   "cell_type": "code",
   "execution_count": 41,
   "id": "919de03c",
   "metadata": {},
   "outputs": [],
   "source": [
    "# Instantiate LassoCV to find optimal alpha\n",
    "lasso_cv = LassoCV(n_alphas=500, cv=5, max_iter=50000)"
   ]
  },
  {
   "cell_type": "code",
   "execution_count": 42,
   "id": "59976707",
   "metadata": {},
   "outputs": [],
   "source": [
    "# Fit the training data to the model and find the time taken\n",
    "start = time.time()\n",
    "lasso_cv.fit(X_train_sc, y_train)\n",
    "end = time.time()"
   ]
  },
  {
   "cell_type": "code",
   "execution_count": 43,
   "id": "535ed915",
   "metadata": {},
   "outputs": [
    {
     "name": "stdout",
     "output_type": "stream",
     "text": [
      "The optimal alpha is 93.99008619958948\n"
     ]
    }
   ],
   "source": [
    "print(f'The optimal alpha is {lasso_cv.alpha_}')"
   ]
  },
  {
   "cell_type": "markdown",
   "id": "b43948cf",
   "metadata": {},
   "source": [
    "This will be our optimal alpha (hyperparamter) which we will put into Lasso model. This optimal alpha penalizes coefficients of features which are too far from zero. As a result, these coefficients are reduced to zeros under Lasso, which is also a form of feature selection. \n",
    "\n",
    "The higher the value of alpha, more regularization would have taken place, meaning more features are set to zero and eliminated."
   ]
  },
  {
   "cell_type": "code",
   "execution_count": 44,
   "id": "820c42d8",
   "metadata": {},
   "outputs": [
    {
     "data": {
      "text/plain": [
       "Lasso(alpha=93.99008619958948)"
      ]
     },
     "execution_count": 44,
     "metadata": {},
     "output_type": "execute_result"
    }
   ],
   "source": [
    "# instantiate lasso with optimal alpha\n",
    "lasso = Lasso(alpha=lasso_cv.alpha_)\n",
    "\n",
    "lasso.fit(X_train_sc, y_train)"
   ]
  },
  {
   "cell_type": "code",
   "execution_count": 45,
   "id": "772cad04",
   "metadata": {},
   "outputs": [],
   "source": [
    "train_score = lasso.score(X_train_sc, y_train)\n",
    "test_score = lasso.score(X_test_sc, y_test)\n",
    "train_rmse = np.sqrt(mean_squared_error(y_train, lasso.predict(X_train_sc)))\n",
    "test_rmse = np.sqrt(mean_squared_error(y_test, lasso.predict(X_test_sc)))\n",
    "fit_time = (end - start) / 60"
   ]
  },
  {
   "cell_type": "code",
   "execution_count": 46,
   "id": "8183292a",
   "metadata": {},
   "outputs": [
    {
     "data": {
      "text/html": [
       "<div>\n",
       "<style scoped>\n",
       "    .dataframe tbody tr th:only-of-type {\n",
       "        vertical-align: middle;\n",
       "    }\n",
       "\n",
       "    .dataframe tbody tr th {\n",
       "        vertical-align: top;\n",
       "    }\n",
       "\n",
       "    .dataframe thead th {\n",
       "        text-align: right;\n",
       "    }\n",
       "</style>\n",
       "<table border=\"1\" class=\"dataframe\">\n",
       "  <thead>\n",
       "    <tr style=\"text-align: right;\">\n",
       "      <th></th>\n",
       "      <th>model</th>\n",
       "      <th>train_r2_score</th>\n",
       "      <th>train_rmse</th>\n",
       "      <th>test_r2_score</th>\n",
       "      <th>test_rmse</th>\n",
       "      <th>fit_time (min)</th>\n",
       "    </tr>\n",
       "  </thead>\n",
       "  <tbody>\n",
       "    <tr>\n",
       "      <th>0</th>\n",
       "      <td>Linear Regression (1 feature)</td>\n",
       "      <td>0.424661</td>\n",
       "      <td>109401.40</td>\n",
       "      <td>0.431538</td>\n",
       "      <td>107794.18</td>\n",
       "      <td>0.0</td>\n",
       "    </tr>\n",
       "    <tr>\n",
       "      <th>1</th>\n",
       "      <td>Linear Regression (all features)</td>\n",
       "      <td>0.868281</td>\n",
       "      <td>52346.16</td>\n",
       "      <td>0.867689</td>\n",
       "      <td>52004.64</td>\n",
       "      <td>0.0</td>\n",
       "    </tr>\n",
       "    <tr>\n",
       "      <th>2</th>\n",
       "      <td>Lasso Regression (all features)</td>\n",
       "      <td>0.864321</td>\n",
       "      <td>53127.28</td>\n",
       "      <td>0.863654</td>\n",
       "      <td>52791.83</td>\n",
       "      <td>0.2</td>\n",
       "    </tr>\n",
       "  </tbody>\n",
       "</table>\n",
       "</div>"
      ],
      "text/plain": [
       "                              model  train_r2_score  train_rmse  \\\n",
       "0     Linear Regression (1 feature)        0.424661   109401.40   \n",
       "1  Linear Regression (all features)        0.868281    52346.16   \n",
       "2   Lasso Regression (all features)        0.864321    53127.28   \n",
       "\n",
       "   test_r2_score  test_rmse  fit_time (min)  \n",
       "0       0.431538  107794.18             0.0  \n",
       "1       0.867689   52004.64             0.0  \n",
       "2       0.863654   52791.83             0.2  "
      ]
     },
     "execution_count": 46,
     "metadata": {},
     "output_type": "execute_result"
    }
   ],
   "source": [
    "results_df = append_result(results_df, train_score, train_rmse, test_score, test_rmse, fit_time,\n",
    "                           'Lasso Regression (all features)')\n",
    "results_df"
   ]
  },
  {
   "cell_type": "markdown",
   "id": "5adddc63",
   "metadata": {},
   "source": [
    "We will look at the lasso coefficients to see which features had the most impact in predicting resale price."
   ]
  },
  {
   "cell_type": "code",
   "execution_count": 47,
   "id": "fb7fc694",
   "metadata": {},
   "outputs": [],
   "source": [
    "df_lasso = pd.DataFrame({'features':X_train.columns,\n",
    "                         'coeff':lasso.coef_,\n",
    "                         'absolute_coeff':np.abs(lasso.coef_)})"
   ]
  },
  {
   "cell_type": "markdown",
   "id": "93cc0644",
   "metadata": {},
   "source": [
    "We will also create another column for absolutes of the coefficients to account for highly negative correlation, if any."
   ]
  },
  {
   "cell_type": "code",
   "execution_count": 48,
   "id": "368e8c49",
   "metadata": {
    "scrolled": false
   },
   "outputs": [
    {
     "data": {
      "image/png": "[encoded data removed]",
      "text/plain": [
       "<Figure size 720x720 with 1 Axes>"
      ]
     },
     "metadata": {
      "needs_background": "light"
     },
     "output_type": "display_data"
    }
   ],
   "source": [
    "df_lasso_top20 = df_lasso.sort_values(by='absolute_coeff', ascending=False).head(20)\n",
    "\n",
    "fig, ax = plt.subplots(figsize=(10,10))\n",
    "sns.barplot(data=df_lasso_top20, y='features', x='absolute_coeff', palette='viridis')\n",
    "\n",
    "plt.title('Features Importance')\n",
    "plt.tight_layout()\n",
    "plt.show()"
   ]
  },
  {
   "cell_type": "markdown",
   "id": "c93f6cea",
   "metadata": {},
   "source": [
    "We also note that there were features zeroed-out by Lasso. In this case, this is a form of feature selection as well. We will have look at features which were zero-out."
   ]
  },
  {
   "cell_type": "code",
   "execution_count": 49,
   "id": "79b24c25",
   "metadata": {
    "scrolled": true
   },
   "outputs": [
    {
     "data": {
      "text/html": [
       "<div>\n",
       "<style scoped>\n",
       "    .dataframe tbody tr th:only-of-type {\n",
       "        vertical-align: middle;\n",
       "    }\n",
       "\n",
       "    .dataframe tbody tr th {\n",
       "        vertical-align: top;\n",
       "    }\n",
       "\n",
       "    .dataframe thead th {\n",
       "        text-align: right;\n",
       "    }\n",
       "</style>\n",
       "<table border=\"1\" class=\"dataframe\">\n",
       "  <thead>\n",
       "    <tr style=\"text-align: right;\">\n",
       "      <th></th>\n",
       "      <th>features</th>\n",
       "      <th>coeff</th>\n",
       "      <th>absolute_coeff</th>\n",
       "    </tr>\n",
       "  </thead>\n",
       "  <tbody>\n",
       "    <tr>\n",
       "      <th>9</th>\n",
       "      <td>town_BEDOK</td>\n",
       "      <td>-0.0</td>\n",
       "      <td>0.0</td>\n",
       "    </tr>\n",
       "    <tr>\n",
       "      <th>15</th>\n",
       "      <td>town_CENTRAL AREA</td>\n",
       "      <td>-0.0</td>\n",
       "      <td>0.0</td>\n",
       "    </tr>\n",
       "    <tr>\n",
       "      <th>24</th>\n",
       "      <td>town_PASIR RIS</td>\n",
       "      <td>-0.0</td>\n",
       "      <td>0.0</td>\n",
       "    </tr>\n",
       "    <tr>\n",
       "      <th>36</th>\n",
       "      <td>flat_type_4 ROOM</td>\n",
       "      <td>-0.0</td>\n",
       "      <td>0.0</td>\n",
       "    </tr>\n",
       "    <tr>\n",
       "      <th>39</th>\n",
       "      <td>flat_type_MULTI-GENERATION</td>\n",
       "      <td>0.0</td>\n",
       "      <td>0.0</td>\n",
       "    </tr>\n",
       "    <tr>\n",
       "      <th>40</th>\n",
       "      <td>flat_model_Adjoined flat</td>\n",
       "      <td>0.0</td>\n",
       "      <td>0.0</td>\n",
       "    </tr>\n",
       "    <tr>\n",
       "      <th>41</th>\n",
       "      <td>flat_model_Apartment</td>\n",
       "      <td>0.0</td>\n",
       "      <td>0.0</td>\n",
       "    </tr>\n",
       "    <tr>\n",
       "      <th>44</th>\n",
       "      <td>flat_model_Improved-Maisonette</td>\n",
       "      <td>0.0</td>\n",
       "      <td>0.0</td>\n",
       "    </tr>\n",
       "    <tr>\n",
       "      <th>49</th>\n",
       "      <td>flat_model_Multi Generation</td>\n",
       "      <td>0.0</td>\n",
       "      <td>0.0</td>\n",
       "    </tr>\n",
       "    <tr>\n",
       "      <th>52</th>\n",
       "      <td>flat_model_Premium Apartment Loft</td>\n",
       "      <td>0.0</td>\n",
       "      <td>0.0</td>\n",
       "    </tr>\n",
       "    <tr>\n",
       "      <th>53</th>\n",
       "      <td>flat_model_Premium Maisonette</td>\n",
       "      <td>0.0</td>\n",
       "      <td>0.0</td>\n",
       "    </tr>\n",
       "    <tr>\n",
       "      <th>55</th>\n",
       "      <td>flat_model_Standard</td>\n",
       "      <td>-0.0</td>\n",
       "      <td>0.0</td>\n",
       "    </tr>\n",
       "  </tbody>\n",
       "</table>\n",
       "</div>"
      ],
      "text/plain": [
       "                             features  coeff  absolute_coeff\n",
       "9                          town_BEDOK   -0.0             0.0\n",
       "15                  town_CENTRAL AREA   -0.0             0.0\n",
       "24                     town_PASIR RIS   -0.0             0.0\n",
       "36                   flat_type_4 ROOM   -0.0             0.0\n",
       "39         flat_type_MULTI-GENERATION    0.0             0.0\n",
       "40           flat_model_Adjoined flat    0.0             0.0\n",
       "41               flat_model_Apartment    0.0             0.0\n",
       "44     flat_model_Improved-Maisonette    0.0             0.0\n",
       "49        flat_model_Multi Generation    0.0             0.0\n",
       "52  flat_model_Premium Apartment Loft    0.0             0.0\n",
       "53      flat_model_Premium Maisonette    0.0             0.0\n",
       "55                flat_model_Standard   -0.0             0.0"
      ]
     },
     "execution_count": 49,
     "metadata": {},
     "output_type": "execute_result"
    }
   ],
   "source": [
    "df_lasso.loc[df_lasso['coeff'] == 0, :]"
   ]
  },
  {
   "cell_type": "markdown",
   "id": "43e6fbff",
   "metadata": {},
   "source": [
    "# Ridge Regression"
   ]
  },
  {
   "cell_type": "code",
   "execution_count": 50,
   "id": "b128bff6",
   "metadata": {},
   "outputs": [],
   "source": [
    "# instantiate RidgeCV to find optimal alpha\n",
    "ridge_cv = RidgeCV(alphas = np.logspace(0, 5, 100),\n",
    "                   cv = 5)"
   ]
  },
  {
   "cell_type": "code",
   "execution_count": 51,
   "id": "a56df6e7",
   "metadata": {},
   "outputs": [],
   "source": [
    "# fit the model\n",
    "start = time.time()\n",
    "ridge_cv.fit(X_train_sc, y_train)\n",
    "end = time.time()"
   ]
  },
  {
   "cell_type": "code",
   "execution_count": 52,
   "id": "c519b3eb",
   "metadata": {},
   "outputs": [
    {
     "name": "stdout",
     "output_type": "stream",
     "text": [
      "The optimal alpha is 1.0\n"
     ]
    }
   ],
   "source": [
    "print(f'The optimal alpha is {ridge_cv.alpha_}')"
   ]
  },
  {
   "cell_type": "markdown",
   "id": "e3f49e98",
   "metadata": {},
   "source": [
    "This will be our optimal alpha which we will put into Lasso model. This optimal alpha penalizes coefficients of features which are too far from zero, thus enforcing them to small. As a result, these coefficients are reduced to almost zero. This reduces the model complexity while keeping all the variables in the model."
   ]
  },
  {
   "cell_type": "code",
   "execution_count": 53,
   "id": "c59f05ba",
   "metadata": {},
   "outputs": [],
   "source": [
    "# instantiate ridge with optimal alpha\n",
    "ridge = Ridge(alpha=ridge_cv.alpha_)"
   ]
  },
  {
   "cell_type": "code",
   "execution_count": 54,
   "id": "469a73de",
   "metadata": {},
   "outputs": [
    {
     "data": {
      "text/plain": [
       "Ridge()"
      ]
     },
     "execution_count": 54,
     "metadata": {},
     "output_type": "execute_result"
    }
   ],
   "source": [
    "# fit model\n",
    "ridge.fit(X_train_sc, y_train)"
   ]
  },
  {
   "cell_type": "code",
   "execution_count": 55,
   "id": "609f5f7b",
   "metadata": {},
   "outputs": [],
   "source": [
    "train_score = ridge.score(X_train_sc, y_train)\n",
    "test_score = ridge.score(X_test_sc, y_test)\n",
    "train_rmse = np.sqrt(mean_squared_error(y_train, ridge.predict(X_train_sc)))\n",
    "test_rmse = np.sqrt(mean_squared_error(y_test, ridge.predict(X_test_sc)))\n",
    "fit_time = (end - start) / 60"
   ]
  },
  {
   "cell_type": "code",
   "execution_count": 56,
   "id": "1319cc1b",
   "metadata": {},
   "outputs": [
    {
     "data": {
      "text/html": [
       "<div>\n",
       "<style scoped>\n",
       "    .dataframe tbody tr th:only-of-type {\n",
       "        vertical-align: middle;\n",
       "    }\n",
       "\n",
       "    .dataframe tbody tr th {\n",
       "        vertical-align: top;\n",
       "    }\n",
       "\n",
       "    .dataframe thead th {\n",
       "        text-align: right;\n",
       "    }\n",
       "</style>\n",
       "<table border=\"1\" class=\"dataframe\">\n",
       "  <thead>\n",
       "    <tr style=\"text-align: right;\">\n",
       "      <th></th>\n",
       "      <th>model</th>\n",
       "      <th>train_r2_score</th>\n",
       "      <th>train_rmse</th>\n",
       "      <th>test_r2_score</th>\n",
       "      <th>test_rmse</th>\n",
       "      <th>fit_time (min)</th>\n",
       "    </tr>\n",
       "  </thead>\n",
       "  <tbody>\n",
       "    <tr>\n",
       "      <th>0</th>\n",
       "      <td>Linear Regression (1 feature)</td>\n",
       "      <td>0.424661</td>\n",
       "      <td>109401.40</td>\n",
       "      <td>0.431538</td>\n",
       "      <td>107794.18</td>\n",
       "      <td>0.00</td>\n",
       "    </tr>\n",
       "    <tr>\n",
       "      <th>1</th>\n",
       "      <td>Linear Regression (all features)</td>\n",
       "      <td>0.868281</td>\n",
       "      <td>52346.16</td>\n",
       "      <td>0.867689</td>\n",
       "      <td>52004.64</td>\n",
       "      <td>0.00</td>\n",
       "    </tr>\n",
       "    <tr>\n",
       "      <th>2</th>\n",
       "      <td>Lasso Regression (all features)</td>\n",
       "      <td>0.864321</td>\n",
       "      <td>53127.28</td>\n",
       "      <td>0.863654</td>\n",
       "      <td>52791.83</td>\n",
       "      <td>0.20</td>\n",
       "    </tr>\n",
       "    <tr>\n",
       "      <th>3</th>\n",
       "      <td>Ridge Regression (all features)</td>\n",
       "      <td>0.868278</td>\n",
       "      <td>52346.72</td>\n",
       "      <td>0.867684</td>\n",
       "      <td>52005.73</td>\n",
       "      <td>1.01</td>\n",
       "    </tr>\n",
       "  </tbody>\n",
       "</table>\n",
       "</div>"
      ],
      "text/plain": [
       "                              model  train_r2_score  train_rmse  \\\n",
       "0     Linear Regression (1 feature)        0.424661   109401.40   \n",
       "1  Linear Regression (all features)        0.868281    52346.16   \n",
       "2   Lasso Regression (all features)        0.864321    53127.28   \n",
       "3   Ridge Regression (all features)        0.868278    52346.72   \n",
       "\n",
       "   test_r2_score  test_rmse  fit_time (min)  \n",
       "0       0.431538  107794.18            0.00  \n",
       "1       0.867689   52004.64            0.00  \n",
       "2       0.863654   52791.83            0.20  \n",
       "3       0.867684   52005.73            1.01  "
      ]
     },
     "execution_count": 56,
     "metadata": {},
     "output_type": "execute_result"
    }
   ],
   "source": [
    "results_df = append_result(results_df, train_score, train_rmse, test_score, test_rmse, fit_time, \n",
    "                           'Ridge Regression (all features)')\n",
    "results_df"
   ]
  },
  {
   "cell_type": "markdown",
   "id": "ed966cda",
   "metadata": {},
   "source": [
    "We will look at the ridge coefficients to see which features had the most impact in predicting resale price."
   ]
  },
  {
   "cell_type": "code",
   "execution_count": 57,
   "id": "c78e7c39",
   "metadata": {},
   "outputs": [],
   "source": [
    "df_ridge = pd.DataFrame({'features':X_train.columns,\n",
    "                         'coeff':ridge.coef_,\n",
    "                         'absolute_coeff':np.abs(ridge.coef_)})"
   ]
  },
  {
   "cell_type": "markdown",
   "id": "49d6c186",
   "metadata": {},
   "source": [
    "We will also create another column for absolutes of the coefficients to account for highly negative correlation, if any."
   ]
  },
  {
   "cell_type": "code",
   "execution_count": 58,
   "id": "67e33c6d",
   "metadata": {
    "scrolled": true
   },
   "outputs": [
    {
     "data": {
      "text/html": [
       "<div>\n",
       "<style scoped>\n",
       "    .dataframe tbody tr th:only-of-type {\n",
       "        vertical-align: middle;\n",
       "    }\n",
       "\n",
       "    .dataframe tbody tr th {\n",
       "        vertical-align: top;\n",
       "    }\n",
       "\n",
       "    .dataframe thead th {\n",
       "        text-align: right;\n",
       "    }\n",
       "</style>\n",
       "<table border=\"1\" class=\"dataframe\">\n",
       "  <thead>\n",
       "    <tr style=\"text-align: right;\">\n",
       "      <th></th>\n",
       "      <th>features</th>\n",
       "      <th>coeff</th>\n",
       "      <th>absolute_coeff</th>\n",
       "    </tr>\n",
       "  </thead>\n",
       "  <tbody>\n",
       "    <tr>\n",
       "      <th>57</th>\n",
       "      <td>flat_model_Type S2</td>\n",
       "      <td>171599.697693</td>\n",
       "      <td>171599.697693</td>\n",
       "    </tr>\n",
       "    <tr>\n",
       "      <th>14</th>\n",
       "      <td>town_BUKIT TIMAH</td>\n",
       "      <td>166389.489215</td>\n",
       "      <td>166389.489215</td>\n",
       "    </tr>\n",
       "    <tr>\n",
       "      <th>56</th>\n",
       "      <td>flat_model_Type S1</td>\n",
       "      <td>115341.685347</td>\n",
       "      <td>115341.685347</td>\n",
       "    </tr>\n",
       "    <tr>\n",
       "      <th>23</th>\n",
       "      <td>town_MARINE PARADE</td>\n",
       "      <td>95815.529908</td>\n",
       "      <td>95815.529908</td>\n",
       "    </tr>\n",
       "    <tr>\n",
       "      <th>44</th>\n",
       "      <td>flat_model_Improved-Maisonette</td>\n",
       "      <td>93270.060851</td>\n",
       "      <td>93270.060851</td>\n",
       "    </tr>\n",
       "    <tr>\n",
       "      <th>16</th>\n",
       "      <td>town_CHOA CHU KANG</td>\n",
       "      <td>-88306.910424</td>\n",
       "      <td>88306.910424</td>\n",
       "    </tr>\n",
       "    <tr>\n",
       "      <th>27</th>\n",
       "      <td>town_SEMBAWANG</td>\n",
       "      <td>-79886.844721</td>\n",
       "      <td>79886.844721</td>\n",
       "    </tr>\n",
       "    <tr>\n",
       "      <th>7</th>\n",
       "      <td>avg_storey</td>\n",
       "      <td>79399.836378</td>\n",
       "      <td>79399.836378</td>\n",
       "    </tr>\n",
       "    <tr>\n",
       "      <th>28</th>\n",
       "      <td>town_SENGKANG</td>\n",
       "      <td>-78605.519312</td>\n",
       "      <td>78605.519312</td>\n",
       "    </tr>\n",
       "    <tr>\n",
       "      <th>52</th>\n",
       "      <td>flat_model_Premium Apartment Loft</td>\n",
       "      <td>76715.880978</td>\n",
       "      <td>76715.880978</td>\n",
       "    </tr>\n",
       "    <tr>\n",
       "      <th>38</th>\n",
       "      <td>flat_type_EXECUTIVE</td>\n",
       "      <td>69191.365391</td>\n",
       "      <td>69191.365391</td>\n",
       "    </tr>\n",
       "    <tr>\n",
       "      <th>49</th>\n",
       "      <td>flat_model_Multi Generation</td>\n",
       "      <td>67288.037330</td>\n",
       "      <td>67288.037330</td>\n",
       "    </tr>\n",
       "    <tr>\n",
       "      <th>39</th>\n",
       "      <td>flat_type_MULTI-GENERATION</td>\n",
       "      <td>67288.037330</td>\n",
       "      <td>67288.037330</td>\n",
       "    </tr>\n",
       "    <tr>\n",
       "      <th>43</th>\n",
       "      <td>flat_model_Improved</td>\n",
       "      <td>-65172.798371</td>\n",
       "      <td>65172.798371</td>\n",
       "    </tr>\n",
       "    <tr>\n",
       "      <th>10</th>\n",
       "      <td>town_BISHAN</td>\n",
       "      <td>62767.996181</td>\n",
       "      <td>62767.996181</td>\n",
       "    </tr>\n",
       "    <tr>\n",
       "      <th>42</th>\n",
       "      <td>flat_model_DBSS</td>\n",
       "      <td>62501.450497</td>\n",
       "      <td>62501.450497</td>\n",
       "    </tr>\n",
       "    <tr>\n",
       "      <th>48</th>\n",
       "      <td>flat_model_Model A2</td>\n",
       "      <td>-62324.564303</td>\n",
       "      <td>62324.564303</td>\n",
       "    </tr>\n",
       "    <tr>\n",
       "      <th>37</th>\n",
       "      <td>flat_type_5 ROOM</td>\n",
       "      <td>61941.011628</td>\n",
       "      <td>61941.011628</td>\n",
       "    </tr>\n",
       "    <tr>\n",
       "      <th>46</th>\n",
       "      <td>flat_model_Model A</td>\n",
       "      <td>-61556.984178</td>\n",
       "      <td>61556.984178</td>\n",
       "    </tr>\n",
       "    <tr>\n",
       "      <th>13</th>\n",
       "      <td>town_BUKIT PANJANG</td>\n",
       "      <td>-61555.592296</td>\n",
       "      <td>61555.592296</td>\n",
       "    </tr>\n",
       "  </tbody>\n",
       "</table>\n",
       "</div>"
      ],
      "text/plain": [
       "                             features          coeff  absolute_coeff\n",
       "57                 flat_model_Type S2  171599.697693   171599.697693\n",
       "14                   town_BUKIT TIMAH  166389.489215   166389.489215\n",
       "56                 flat_model_Type S1  115341.685347   115341.685347\n",
       "23                 town_MARINE PARADE   95815.529908    95815.529908\n",
       "44     flat_model_Improved-Maisonette   93270.060851    93270.060851\n",
       "16                 town_CHOA CHU KANG  -88306.910424    88306.910424\n",
       "27                     town_SEMBAWANG  -79886.844721    79886.844721\n",
       "7                          avg_storey   79399.836378    79399.836378\n",
       "28                      town_SENGKANG  -78605.519312    78605.519312\n",
       "52  flat_model_Premium Apartment Loft   76715.880978    76715.880978\n",
       "38                flat_type_EXECUTIVE   69191.365391    69191.365391\n",
       "49        flat_model_Multi Generation   67288.037330    67288.037330\n",
       "39         flat_type_MULTI-GENERATION   67288.037330    67288.037330\n",
       "43                flat_model_Improved  -65172.798371    65172.798371\n",
       "10                        town_BISHAN   62767.996181    62767.996181\n",
       "42                    flat_model_DBSS   62501.450497    62501.450497\n",
       "48                flat_model_Model A2  -62324.564303    62324.564303\n",
       "37                   flat_type_5 ROOM   61941.011628    61941.011628\n",
       "46                 flat_model_Model A  -61556.984178    61556.984178\n",
       "13                 town_BUKIT PANJANG  -61555.592296    61555.592296"
      ]
     },
     "execution_count": 58,
     "metadata": {},
     "output_type": "execute_result"
    }
   ],
   "source": [
    "df_ridge.sort_values(by='absolute_coeff', ascending=False).head(20)"
   ]
  },
  {
   "cell_type": "code",
   "execution_count": 59,
   "id": "e4e0e472",
   "metadata": {
    "scrolled": true
   },
   "outputs": [
    {
     "data": {
      "image/png": "[encoded data removed]",
      "text/plain": [
       "<Figure size 720x720 with 1 Axes>"
      ]
     },
     "metadata": {
      "needs_background": "light"
     },
     "output_type": "display_data"
    }
   ],
   "source": [
    "df_ridge_top20 = df_ridge.sort_values(by='absolute_coeff', ascending=False).head(20)\n",
    "\n",
    "fig, ax = plt.subplots(figsize=(10,10))\n",
    "sns.barplot(data=df_ridge_top20, y='features', x='absolute_coeff', palette='viridis')\n",
    "\n",
    "plt.title('Features Importance')\n",
    "plt.tight_layout()\n",
    "plt.show()"
   ]
  },
  {
   "cell_type": "markdown",
   "id": "3531d23a",
   "metadata": {},
   "source": [
    "# Random Forest Regression"
   ]
  },
  {
   "cell_type": "markdown",
   "id": "186b6105",
   "metadata": {},
   "source": [
    "Random Forest is a bagging (bootstrapped aggregation) technique that contains a number of decision trees on various subsets of the given dataset and takes the average to improve the predictive accuracy of the dataset. Instead of relying on 1 decision tree, the random forest takes the prediction from each tree and based on majority votes of the predictions, it predicts the final output. The greater the number of trees, the higher the accuracy and prevents the problem of overfitting.\n",
    "\n",
    "Random Forest has two random elements:\n",
    "1. random subset of features\n",
    "2. Bootstrap samples of data"
   ]
  },
  {
   "cell_type": "code",
   "execution_count": 60,
   "id": "3769a698",
   "metadata": {},
   "outputs": [],
   "source": [
    "# instantiate model\n",
    "rf = RandomForestRegressor(random_state=100)"
   ]
  },
  {
   "cell_type": "code",
   "execution_count": 61,
   "id": "43f29420",
   "metadata": {},
   "outputs": [
    {
     "data": {
      "text/plain": [
       "{'bootstrap': True,\n",
       " 'ccp_alpha': 0.0,\n",
       " 'criterion': 'mse',\n",
       " 'max_depth': None,\n",
       " 'max_features': 'auto',\n",
       " 'max_leaf_nodes': None,\n",
       " 'max_samples': None,\n",
       " 'min_impurity_decrease': 0.0,\n",
       " 'min_impurity_split': None,\n",
       " 'min_samples_leaf': 1,\n",
       " 'min_samples_split': 2,\n",
       " 'min_weight_fraction_leaf': 0.0,\n",
       " 'n_estimators': 100,\n",
       " 'n_jobs': None,\n",
       " 'oob_score': False,\n",
       " 'random_state': 100,\n",
       " 'verbose': 0,\n",
       " 'warm_start': False}"
      ]
     },
     "execution_count": 61,
     "metadata": {},
     "output_type": "execute_result"
    }
   ],
   "source": [
    "rf.get_params()"
   ]
  },
  {
   "cell_type": "code",
   "execution_count": 62,
   "id": "87c25611",
   "metadata": {},
   "outputs": [
    {
     "data": {
      "text/plain": [
       "25460.705844869968"
      ]
     },
     "execution_count": 62,
     "metadata": {},
     "output_type": "execute_result"
    }
   ],
   "source": [
    "# cross validate with default model parameters\n",
    "np.sqrt(-cross_val_score(rf, \n",
    "                         X_train_sc, y_train, scoring='neg_mean_squared_error')).mean()"
   ]
  },
  {
   "cell_type": "code",
   "execution_count": 63,
   "id": "55d9b3b4",
   "metadata": {},
   "outputs": [],
   "source": [
    "rf_params = {\n",
    "    'n_estimators': [300],                     # 100, 150, 200, 250, 300, 350\n",
    "    'max_depth': [25],                         # 1, 2, 3, 4, 5, 6, 7, 8, 9, 10, 15, 20, 25, 30, 35, 40 \n",
    "    'min_samples_split': [7],                  # 1, 2, 3, 4, 5, 7\n",
    "    'min_samples_leaf': [3],                   # 1, 2, 3, 5\n",
    "    'max_features': [0.7]                      # auto, 0.3, 0.5, 0.7, 0.8, sqrt, log2\n",
    "}"
   ]
  },
  {
   "cell_type": "code",
   "execution_count": 64,
   "id": "2ae7f032",
   "metadata": {},
   "outputs": [],
   "source": [
    "gs_rf = GridSearchCV(rf, rf_params, verbose=1, n_jobs=-1, scoring='neg_mean_squared_error')"
   ]
  },
  {
   "cell_type": "code",
   "execution_count": 65,
   "id": "4b05b4aa",
   "metadata": {
    "scrolled": true
   },
   "outputs": [
    {
     "name": "stdout",
     "output_type": "stream",
     "text": [
      "Fitting 5 folds for each of 1 candidates, totalling 5 fits\n"
     ]
    }
   ],
   "source": [
    "# fit gridsearch model\n",
    "start = time.time()\n",
    "gs_rf.fit(X_train_sc, y_train)\n",
    "end = time.time()"
   ]
  },
  {
   "cell_type": "code",
   "execution_count": 66,
   "id": "79b03ea0",
   "metadata": {},
   "outputs": [
    {
     "data": {
      "text/plain": [
       "24912.449139189845"
      ]
     },
     "execution_count": 66,
     "metadata": {},
     "output_type": "execute_result"
    }
   ],
   "source": [
    "# RMSE score\n",
    "np.sqrt(-gs_rf.best_score_)"
   ]
  },
  {
   "cell_type": "code",
   "execution_count": 67,
   "id": "6b76d180",
   "metadata": {},
   "outputs": [
    {
     "data": {
      "text/plain": [
       "12.907786428928375"
      ]
     },
     "execution_count": 67,
     "metadata": {},
     "output_type": "execute_result"
    }
   ],
   "source": [
    "(end - start)/60"
   ]
  },
  {
   "cell_type": "code",
   "execution_count": 68,
   "id": "c3a8613b",
   "metadata": {},
   "outputs": [],
   "source": [
    "# 7th Nov\n",
    "\n",
    "# RMSE GS\n",
    "# 24787 - 120 mins for 40 fits\n",
    "\n",
    "#{'max_depth': 25,           vs 20\n",
    "# 'max_features': 0.7,       vs 0.8\n",
    "# 'min_samples_leaf': 3,     \n",
    "# 'min_samples_split': 7,    \n",
    "# 'n_estimators': 300}       vs 250\n",
    "\n",
    "\n",
    "# RMSE GS\n",
    "# 25255 - 58 mins for 20 fits\n",
    "\n",
    "#{'max_depth': 20,           vs 15\n",
    "# 'max_features': 0.7,       \n",
    "# 'min_samples_leaf': 3,     \n",
    "# 'min_samples_split': 7,    \n",
    "# 'n_estimators': 300}       vs 250\n",
    "\n",
    "# RMSE GS\n",
    "# 28308 - 130 mins for 80 fits\n",
    "\n",
    "#{'max_depth': 15,           vs 10\n",
    "# 'max_features': 0.7,       vs 0.5\n",
    "# 'min_samples_leaf': 3,     \n",
    "# 'min_samples_split': 7,    vs 9\n",
    "# 'n_estimators': 250}       vs 200\n",
    "\n",
    "\n",
    "# RMSE GS\n",
    "# 39961 - 249 mins for 160 fits\n",
    "\n",
    "#{'max_depth': 10,           \n",
    "# 'max_features': 0.5,       vs auto, 0.3\n",
    "# 'min_samples_leaf': 3,     vs 5\n",
    "# 'min_samples_split': 7,    vs 3, 5, 7\n",
    "# 'n_estimators': 200}       vs 250\n",
    "\n",
    "# 6th Nov\n",
    "\n",
    "# RMSE GS\n",
    "# 40209 - 170 mins\n",
    "\n",
    "#{'max_depth': 10,\n",
    "# 'max_features': 'auto',\n",
    "# 'min_samples_leaf': 3,\n",
    "# 'min_samples_split': 2,\n",
    "# 'n_estimators': 200}\n",
    "\n",
    "# 5th Nov\n",
    "\n",
    "# RMSE GS\n",
    "# 44016\n",
    "\n",
    "#{'max_depth': 9,\n",
    "# 'max_features': 'auto',\n",
    "# 'min_samples_leaf': 1,\n",
    "# 'min_samples_split': 3,\n",
    "# 'n_estimators': 150}\n",
    "\n",
    "# RMSE GS\n",
    "# 48244\n",
    "\n",
    "#{'max_depth': 8,\n",
    "# 'max_features': 'auto',\n",
    "# 'min_samples_leaf': 1,\n",
    "# 'min_samples_split': 3,\n",
    "# 'n_estimators': 100}\n",
    "\n",
    "# RMSE GS\n",
    "# 59775\n",
    "\n",
    "#{'max_depth': 6,\n",
    "# 'max_features': 'auto',\n",
    "# 'min_samples_leaf': 1,\n",
    "# 'min_samples_split': 2,\n",
    "# 'n_estimators': 100}\n",
    "\n",
    "# RMSE GS\n",
    "# 66202\n",
    "\n",
    "#{'max_depth': 5,\n",
    "# 'max_features': 'auto',\n",
    "# 'min_samples_leaf': 1,\n",
    "# 'min_samples_split': 2,\n",
    "# 'n_estimators': 150}\n",
    "\n",
    "# RMSE GS\n",
    "# 74540\n",
    "\n",
    "#{'max_depth': 4,\n",
    "# 'min_samples_leaf': 1,\n",
    "# 'min_samples_split': 2,\n",
    "# 'n_estimators': 200}\n",
    "\n",
    "# 4th Nov\n",
    "# RMSE GS\n",
    "# 24969\n",
    "\n",
    "#{'max_depth': 35,\n",
    "# 'min_samples_leaf': 1,\n",
    "# 'min_samples_split': 2,\n",
    "# 'n_estimators': 300}"
   ]
  },
  {
   "cell_type": "code",
   "execution_count": 69,
   "id": "dbbd73b2",
   "metadata": {
    "scrolled": false
   },
   "outputs": [
    {
     "data": {
      "text/plain": [
       "{'max_depth': 25,\n",
       " 'max_features': 0.7,\n",
       " 'min_samples_leaf': 3,\n",
       " 'min_samples_split': 7,\n",
       " 'n_estimators': 300}"
      ]
     },
     "execution_count": 69,
     "metadata": {},
     "output_type": "execute_result"
    }
   ],
   "source": [
    "gs_rf.best_params_"
   ]
  },
  {
   "cell_type": "markdown",
   "id": "92cf5c71",
   "metadata": {},
   "source": [
    "## Use model with best params"
   ]
  },
  {
   "cell_type": "code",
   "execution_count": 70,
   "id": "63d76180",
   "metadata": {},
   "outputs": [],
   "source": [
    "rf = RandomForestRegressor(max_depth=25, max_features=0.7, min_samples_leaf=3, min_samples_split=7, n_estimators=300, random_state=100)"
   ]
  },
  {
   "cell_type": "code",
   "execution_count": 71,
   "id": "aa95ec19",
   "metadata": {},
   "outputs": [
    {
     "data": {
      "text/plain": [
       "RandomForestRegressor(max_depth=25, max_features=0.7, min_samples_leaf=3,\n",
       "                      min_samples_split=7, n_estimators=300, random_state=100)"
      ]
     },
     "execution_count": 71,
     "metadata": {},
     "output_type": "execute_result"
    }
   ],
   "source": [
    "rf.fit(X_train_sc, y_train)"
   ]
  },
  {
   "cell_type": "code",
   "execution_count": 72,
   "id": "68a66b96",
   "metadata": {},
   "outputs": [],
   "source": [
    "train_score = rf.score(X_train_sc, y_train)\n",
    "test_score = rf.score(X_test_sc, y_test)\n",
    "train_rmse = np.sqrt(mean_squared_error(y_train, rf.predict(X_train_sc)))\n",
    "test_rmse = np.sqrt(mean_squared_error(y_test, rf.predict(X_test_sc)))\n",
    "fit_time = (end - start) / 60"
   ]
  },
  {
   "cell_type": "code",
   "execution_count": 73,
   "id": "e11f8075",
   "metadata": {},
   "outputs": [
    {
     "data": {
      "text/html": [
       "<div>\n",
       "<style scoped>\n",
       "    .dataframe tbody tr th:only-of-type {\n",
       "        vertical-align: middle;\n",
       "    }\n",
       "\n",
       "    .dataframe tbody tr th {\n",
       "        vertical-align: top;\n",
       "    }\n",
       "\n",
       "    .dataframe thead th {\n",
       "        text-align: right;\n",
       "    }\n",
       "</style>\n",
       "<table border=\"1\" class=\"dataframe\">\n",
       "  <thead>\n",
       "    <tr style=\"text-align: right;\">\n",
       "      <th></th>\n",
       "      <th>model</th>\n",
       "      <th>train_r2_score</th>\n",
       "      <th>train_rmse</th>\n",
       "      <th>test_r2_score</th>\n",
       "      <th>test_rmse</th>\n",
       "      <th>fit_time (min)</th>\n",
       "    </tr>\n",
       "  </thead>\n",
       "  <tbody>\n",
       "    <tr>\n",
       "      <th>0</th>\n",
       "      <td>Linear Regression (1 feature)</td>\n",
       "      <td>0.424661</td>\n",
       "      <td>109401.40</td>\n",
       "      <td>0.431538</td>\n",
       "      <td>107794.18</td>\n",
       "      <td>0.00</td>\n",
       "    </tr>\n",
       "    <tr>\n",
       "      <th>1</th>\n",
       "      <td>Linear Regression (all features)</td>\n",
       "      <td>0.868281</td>\n",
       "      <td>52346.16</td>\n",
       "      <td>0.867689</td>\n",
       "      <td>52004.64</td>\n",
       "      <td>0.00</td>\n",
       "    </tr>\n",
       "    <tr>\n",
       "      <th>2</th>\n",
       "      <td>Lasso Regression (all features)</td>\n",
       "      <td>0.864321</td>\n",
       "      <td>53127.28</td>\n",
       "      <td>0.863654</td>\n",
       "      <td>52791.83</td>\n",
       "      <td>0.20</td>\n",
       "    </tr>\n",
       "    <tr>\n",
       "      <th>3</th>\n",
       "      <td>Ridge Regression (all features)</td>\n",
       "      <td>0.868278</td>\n",
       "      <td>52346.72</td>\n",
       "      <td>0.867684</td>\n",
       "      <td>52005.73</td>\n",
       "      <td>1.01</td>\n",
       "    </tr>\n",
       "    <tr>\n",
       "      <th>4</th>\n",
       "      <td>Random Forest Regression (all features)</td>\n",
       "      <td>0.986453</td>\n",
       "      <td>16787.25</td>\n",
       "      <td>0.971665</td>\n",
       "      <td>24066.13</td>\n",
       "      <td>12.91</td>\n",
       "    </tr>\n",
       "  </tbody>\n",
       "</table>\n",
       "</div>"
      ],
      "text/plain": [
       "                                     model  train_r2_score  train_rmse  \\\n",
       "0            Linear Regression (1 feature)        0.424661   109401.40   \n",
       "1         Linear Regression (all features)        0.868281    52346.16   \n",
       "2          Lasso Regression (all features)        0.864321    53127.28   \n",
       "3          Ridge Regression (all features)        0.868278    52346.72   \n",
       "4  Random Forest Regression (all features)        0.986453    16787.25   \n",
       "\n",
       "   test_r2_score  test_rmse  fit_time (min)  \n",
       "0       0.431538  107794.18            0.00  \n",
       "1       0.867689   52004.64            0.00  \n",
       "2       0.863654   52791.83            0.20  \n",
       "3       0.867684   52005.73            1.01  \n",
       "4       0.971665   24066.13           12.91  "
      ]
     },
     "execution_count": 73,
     "metadata": {},
     "output_type": "execute_result"
    }
   ],
   "source": [
    "results_df = append_result(results_df, train_score, train_rmse, test_score, test_rmse, fit_time,\n",
    "                           'Random Forest Regression (all features)')\n",
    "results_df"
   ]
  },
  {
   "cell_type": "markdown",
   "id": "43ba0177",
   "metadata": {},
   "source": [
    "## Feature importance"
   ]
  },
  {
   "cell_type": "code",
   "execution_count": 74,
   "id": "03988c9d",
   "metadata": {},
   "outputs": [],
   "source": [
    "rf_feature_df = pd.DataFrame({'feature_name': X_train.columns,\n",
    "                              'feature_importance': rf.feature_importances_})"
   ]
  },
  {
   "cell_type": "code",
   "execution_count": 75,
   "id": "30582a9d",
   "metadata": {
    "scrolled": true
   },
   "outputs": [
    {
     "data": {
      "text/html": [
       "<div>\n",
       "<style scoped>\n",
       "    .dataframe tbody tr th:only-of-type {\n",
       "        vertical-align: middle;\n",
       "    }\n",
       "\n",
       "    .dataframe tbody tr th {\n",
       "        vertical-align: top;\n",
       "    }\n",
       "\n",
       "    .dataframe thead th {\n",
       "        text-align: right;\n",
       "    }\n",
       "</style>\n",
       "<table border=\"1\" class=\"dataframe\">\n",
       "  <thead>\n",
       "    <tr style=\"text-align: right;\">\n",
       "      <th></th>\n",
       "      <th>feature_name</th>\n",
       "      <th>feature_importance</th>\n",
       "    </tr>\n",
       "  </thead>\n",
       "  <tbody>\n",
       "    <tr>\n",
       "      <th>7</th>\n",
       "      <td>avg_storey</td>\n",
       "      <td>0.363364</td>\n",
       "    </tr>\n",
       "    <tr>\n",
       "      <th>5</th>\n",
       "      <td>nearest_mall_dist</td>\n",
       "      <td>0.248279</td>\n",
       "    </tr>\n",
       "    <tr>\n",
       "      <th>0</th>\n",
       "      <td>age</td>\n",
       "      <td>0.081612</td>\n",
       "    </tr>\n",
       "    <tr>\n",
       "      <th>35</th>\n",
       "      <td>flat_type_3 ROOM</td>\n",
       "      <td>0.052454</td>\n",
       "    </tr>\n",
       "    <tr>\n",
       "      <th>36</th>\n",
       "      <td>flat_type_4 ROOM</td>\n",
       "      <td>0.037748</td>\n",
       "    </tr>\n",
       "    <tr>\n",
       "      <th>6</th>\n",
       "      <td>dist_cbd</td>\n",
       "      <td>0.031710</td>\n",
       "    </tr>\n",
       "    <tr>\n",
       "      <th>38</th>\n",
       "      <td>flat_type_EXECUTIVE</td>\n",
       "      <td>0.029815</td>\n",
       "    </tr>\n",
       "    <tr>\n",
       "      <th>8</th>\n",
       "      <td>year_dummy</td>\n",
       "      <td>0.029770</td>\n",
       "    </tr>\n",
       "    <tr>\n",
       "      <th>1</th>\n",
       "      <td>floor_area_sqf</td>\n",
       "      <td>0.029301</td>\n",
       "    </tr>\n",
       "    <tr>\n",
       "      <th>4</th>\n",
       "      <td>nearest_secondary_school_dist</td>\n",
       "      <td>0.015031</td>\n",
       "    </tr>\n",
       "    <tr>\n",
       "      <th>37</th>\n",
       "      <td>flat_type_5 ROOM</td>\n",
       "      <td>0.014103</td>\n",
       "    </tr>\n",
       "    <tr>\n",
       "      <th>3</th>\n",
       "      <td>nearest_primary_school_dist</td>\n",
       "      <td>0.010271</td>\n",
       "    </tr>\n",
       "    <tr>\n",
       "      <th>42</th>\n",
       "      <td>flat_model_DBSS</td>\n",
       "      <td>0.008621</td>\n",
       "    </tr>\n",
       "    <tr>\n",
       "      <th>2</th>\n",
       "      <td>nearest_mrt_station_dist</td>\n",
       "      <td>0.006959</td>\n",
       "    </tr>\n",
       "    <tr>\n",
       "      <th>46</th>\n",
       "      <td>flat_model_Model A</td>\n",
       "      <td>0.006270</td>\n",
       "    </tr>\n",
       "    <tr>\n",
       "      <th>10</th>\n",
       "      <td>town_BISHAN</td>\n",
       "      <td>0.004449</td>\n",
       "    </tr>\n",
       "    <tr>\n",
       "      <th>17</th>\n",
       "      <td>town_CLEMENTI</td>\n",
       "      <td>0.002779</td>\n",
       "    </tr>\n",
       "    <tr>\n",
       "      <th>34</th>\n",
       "      <td>flat_type_2 ROOM</td>\n",
       "      <td>0.002749</td>\n",
       "    </tr>\n",
       "    <tr>\n",
       "      <th>14</th>\n",
       "      <td>town_BUKIT TIMAH</td>\n",
       "      <td>0.001954</td>\n",
       "    </tr>\n",
       "    <tr>\n",
       "      <th>43</th>\n",
       "      <td>flat_model_Improved</td>\n",
       "      <td>0.001678</td>\n",
       "    </tr>\n",
       "  </tbody>\n",
       "</table>\n",
       "</div>"
      ],
      "text/plain": [
       "                     feature_name  feature_importance\n",
       "7                      avg_storey            0.363364\n",
       "5               nearest_mall_dist            0.248279\n",
       "0                             age            0.081612\n",
       "35               flat_type_3 ROOM            0.052454\n",
       "36               flat_type_4 ROOM            0.037748\n",
       "6                        dist_cbd            0.031710\n",
       "38            flat_type_EXECUTIVE            0.029815\n",
       "8                      year_dummy            0.029770\n",
       "1                  floor_area_sqf            0.029301\n",
       "4   nearest_secondary_school_dist            0.015031\n",
       "37               flat_type_5 ROOM            0.014103\n",
       "3     nearest_primary_school_dist            0.010271\n",
       "42                flat_model_DBSS            0.008621\n",
       "2        nearest_mrt_station_dist            0.006959\n",
       "46             flat_model_Model A            0.006270\n",
       "10                    town_BISHAN            0.004449\n",
       "17                  town_CLEMENTI            0.002779\n",
       "34               flat_type_2 ROOM            0.002749\n",
       "14               town_BUKIT TIMAH            0.001954\n",
       "43            flat_model_Improved            0.001678"
      ]
     },
     "execution_count": 75,
     "metadata": {},
     "output_type": "execute_result"
    }
   ],
   "source": [
    "rf_feature_df.sort_values(by='feature_importance', ascending=False).head(20)"
   ]
  },
  {
   "cell_type": "code",
   "execution_count": 76,
   "id": "9ab58f76",
   "metadata": {
    "scrolled": true
   },
   "outputs": [
    {
     "data": {
      "image/png": "[encoded data removed]",
      "text/plain": [
       "<Figure size 720x720 with 1 Axes>"
      ]
     },
     "metadata": {
      "needs_background": "light"
     },
     "output_type": "display_data"
    }
   ],
   "source": [
    "rf_top20 = rf_feature_df.sort_values(by='feature_importance', ascending=False).head(20)\n",
    "\n",
    "fig, ax = plt.subplots(figsize=(10,10))\n",
    "sns.barplot(data=rf_top20, y='feature_name', x='feature_importance', palette='viridis')\n",
    "\n",
    "plt.title('Features Importance')\n",
    "plt.tight_layout()\n",
    "plt.show()"
   ]
  },
  {
   "cell_type": "markdown",
   "id": "c3c659a8",
   "metadata": {},
   "source": [
    "By sorting the values from the largest to lowest, the table above shows the top 20 feature importance in predicting a HDB's resale price.\n",
    "\n",
    "Feature importances for the Random Forest are computed as the mean and standard deviation of accumulation of the impurity decrease within each tree (pulled from sklearn documentation). "
   ]
  },
  {
   "cell_type": "markdown",
   "id": "8a8e8940",
   "metadata": {},
   "source": [
    "# ExtraTrees Regression"
   ]
  },
  {
   "cell_type": "code",
   "execution_count": 77,
   "id": "32f82f88",
   "metadata": {},
   "outputs": [],
   "source": [
    "# instantiate model\n",
    "et = ExtraTreesRegressor(random_state=100)"
   ]
  },
  {
   "cell_type": "code",
   "execution_count": 78,
   "id": "634f078f",
   "metadata": {},
   "outputs": [
    {
     "data": {
      "text/plain": [
       "{'bootstrap': False,\n",
       " 'ccp_alpha': 0.0,\n",
       " 'criterion': 'mse',\n",
       " 'max_depth': None,\n",
       " 'max_features': 'auto',\n",
       " 'max_leaf_nodes': None,\n",
       " 'max_samples': None,\n",
       " 'min_impurity_decrease': 0.0,\n",
       " 'min_impurity_split': None,\n",
       " 'min_samples_leaf': 1,\n",
       " 'min_samples_split': 2,\n",
       " 'min_weight_fraction_leaf': 0.0,\n",
       " 'n_estimators': 100,\n",
       " 'n_jobs': None,\n",
       " 'oob_score': False,\n",
       " 'random_state': 100,\n",
       " 'verbose': 0,\n",
       " 'warm_start': False}"
      ]
     },
     "execution_count": 78,
     "metadata": {},
     "output_type": "execute_result"
    }
   ],
   "source": [
    "et.get_params()"
   ]
  },
  {
   "cell_type": "code",
   "execution_count": 79,
   "id": "2c01c719",
   "metadata": {},
   "outputs": [
    {
     "data": {
      "text/plain": [
       "25908.4970456835"
      ]
     },
     "execution_count": 79,
     "metadata": {},
     "output_type": "execute_result"
    }
   ],
   "source": [
    "# cross validate with default model parameters\n",
    "np.sqrt(-cross_val_score(et, \n",
    "                         X_train_sc, y_train, scoring='neg_mean_squared_error')).mean()"
   ]
  },
  {
   "cell_type": "code",
   "execution_count": 80,
   "id": "cc913d4f",
   "metadata": {},
   "outputs": [],
   "source": [
    "et_params = {\n",
    "    'max_depth': [20],                        # 3, 5, 7, 8, 10, 12, 15, 20\n",
    "    'max_features': ['auto'],                 # auto, 0.3, 0.5, try sqrt and log2 if possible\n",
    "    'min_samples_leaf': [3],                  # 1, 3, 5\n",
    "    'min_samples_split': [4],                 # 2, 4, 6\n",
    "    'n_estimators': [200]                     # 150, 200, 250  \n",
    "}"
   ]
  },
  {
   "cell_type": "code",
   "execution_count": 81,
   "id": "ab2d35f2",
   "metadata": {},
   "outputs": [],
   "source": [
    "gs_et = GridSearchCV(et, et_params, verbose=1, n_jobs=-1, scoring='neg_mean_squared_error')"
   ]
  },
  {
   "cell_type": "code",
   "execution_count": 82,
   "id": "a954ee09",
   "metadata": {},
   "outputs": [
    {
     "name": "stdout",
     "output_type": "stream",
     "text": [
      "Fitting 5 folds for each of 1 candidates, totalling 5 fits\n"
     ]
    }
   ],
   "source": [
    "# fit gridsearch model\n",
    "start = time.time()\n",
    "gs_et.fit(X_train_sc, y_train)\n",
    "end = time.time()"
   ]
  },
  {
   "cell_type": "code",
   "execution_count": 83,
   "id": "3e2520f1",
   "metadata": {},
   "outputs": [
    {
     "data": {
      "text/plain": [
       "7.853834335009257"
      ]
     },
     "execution_count": 83,
     "metadata": {},
     "output_type": "execute_result"
    }
   ],
   "source": [
    "(end - start)/60"
   ]
  },
  {
   "cell_type": "code",
   "execution_count": 84,
   "id": "30dac7cd",
   "metadata": {},
   "outputs": [
    {
     "data": {
      "text/plain": [
       "25519.59942213007"
      ]
     },
     "execution_count": 84,
     "metadata": {},
     "output_type": "execute_result"
    }
   ],
   "source": [
    "# RMSE score\n",
    "np.sqrt(-gs_et.best_score_)"
   ]
  },
  {
   "cell_type": "code",
   "execution_count": 85,
   "id": "2d23da47",
   "metadata": {},
   "outputs": [
    {
     "data": {
      "text/plain": [
       "{'max_depth': 20,\n",
       " 'max_features': 'auto',\n",
       " 'min_samples_leaf': 3,\n",
       " 'min_samples_split': 4,\n",
       " 'n_estimators': 200}"
      ]
     },
     "execution_count": 85,
     "metadata": {},
     "output_type": "execute_result"
    }
   ],
   "source": [
    "gs_et.best_params_"
   ]
  },
  {
   "cell_type": "code",
   "execution_count": 86,
   "id": "f4a0dd32",
   "metadata": {},
   "outputs": [],
   "source": [
    "# 9th Nov\n",
    "\n",
    "# 25475 for 30 fits 134 mins\n",
    "\n",
    "#{'max_depth': 20,           vs 12, 15\n",
    "# 'max_features': 'auto',   \n",
    "# 'min_samples_leaf': 3,    \n",
    "# 'min_samples_split': 4,   \n",
    "# 'n_estimators': 200}      vs 250\n",
    "\n",
    "# 7th Nov\n",
    "\n",
    "# 37423 for 120 fits 393 mins\n",
    "\n",
    "#{'max_depth': 12,           vs 8, 10\n",
    "# 'max_features': 'auto',   \n",
    "# 'min_samples_leaf': 3,    vs 5\n",
    "# 'min_samples_split': 4,   vs 6\n",
    "# 'n_estimators': 200}      vs 250\n",
    "\n",
    "# 56645 for 360 fits 130 mins\n",
    "\n",
    "#{'max_depth': 7,           vs 3, 5\n",
    "# 'max_features': 'auto',   vs 0.3, 0.5\n",
    "# 'min_samples_leaf': 3,    vs 1\n",
    "# 'min_samples_split': 2,   vs 4\n",
    "# 'n_estimators': 200}      vs 150"
   ]
  },
  {
   "cell_type": "markdown",
   "id": "314d2c16",
   "metadata": {},
   "source": [
    "## Use model with best params"
   ]
  },
  {
   "cell_type": "code",
   "execution_count": 87,
   "id": "08ef7fe5",
   "metadata": {},
   "outputs": [],
   "source": [
    "et = ExtraTreesRegressor(max_depth=20, max_features='auto', min_samples_leaf=3, \n",
    "                         min_samples_split=4, n_estimators=200, random_state=100)"
   ]
  },
  {
   "cell_type": "code",
   "execution_count": 88,
   "id": "d2ecff30",
   "metadata": {},
   "outputs": [
    {
     "data": {
      "text/plain": [
       "ExtraTreesRegressor(max_depth=20, min_samples_leaf=3, min_samples_split=4,\n",
       "                    n_estimators=200, random_state=100)"
      ]
     },
     "execution_count": 88,
     "metadata": {},
     "output_type": "execute_result"
    }
   ],
   "source": [
    "et.fit(X_train_sc, y_train)"
   ]
  },
  {
   "cell_type": "code",
   "execution_count": 89,
   "id": "f5765331",
   "metadata": {},
   "outputs": [],
   "source": [
    "train_score = et.score(X_train_sc, y_train)\n",
    "test_score = et.score(X_test_sc, y_test)\n",
    "train_rmse = np.sqrt(mean_squared_error(y_train, et.predict(X_train_sc)))\n",
    "test_rmse = np.sqrt(mean_squared_error(y_test, et.predict(X_test_sc)))\n",
    "fit_time = (end - start) / 60"
   ]
  },
  {
   "cell_type": "code",
   "execution_count": 90,
   "id": "a5698f8a",
   "metadata": {},
   "outputs": [
    {
     "data": {
      "text/html": [
       "<div>\n",
       "<style scoped>\n",
       "    .dataframe tbody tr th:only-of-type {\n",
       "        vertical-align: middle;\n",
       "    }\n",
       "\n",
       "    .dataframe tbody tr th {\n",
       "        vertical-align: top;\n",
       "    }\n",
       "\n",
       "    .dataframe thead th {\n",
       "        text-align: right;\n",
       "    }\n",
       "</style>\n",
       "<table border=\"1\" class=\"dataframe\">\n",
       "  <thead>\n",
       "    <tr style=\"text-align: right;\">\n",
       "      <th></th>\n",
       "      <th>model</th>\n",
       "      <th>train_r2_score</th>\n",
       "      <th>train_rmse</th>\n",
       "      <th>test_r2_score</th>\n",
       "      <th>test_rmse</th>\n",
       "      <th>fit_time (min)</th>\n",
       "    </tr>\n",
       "  </thead>\n",
       "  <tbody>\n",
       "    <tr>\n",
       "      <th>0</th>\n",
       "      <td>Linear Regression (1 feature)</td>\n",
       "      <td>0.424661</td>\n",
       "      <td>109401.40</td>\n",
       "      <td>0.431538</td>\n",
       "      <td>107794.18</td>\n",
       "      <td>0.00</td>\n",
       "    </tr>\n",
       "    <tr>\n",
       "      <th>1</th>\n",
       "      <td>Linear Regression (all features)</td>\n",
       "      <td>0.868281</td>\n",
       "      <td>52346.16</td>\n",
       "      <td>0.867689</td>\n",
       "      <td>52004.64</td>\n",
       "      <td>0.00</td>\n",
       "    </tr>\n",
       "    <tr>\n",
       "      <th>2</th>\n",
       "      <td>Lasso Regression (all features)</td>\n",
       "      <td>0.864321</td>\n",
       "      <td>53127.28</td>\n",
       "      <td>0.863654</td>\n",
       "      <td>52791.83</td>\n",
       "      <td>0.20</td>\n",
       "    </tr>\n",
       "    <tr>\n",
       "      <th>3</th>\n",
       "      <td>Ridge Regression (all features)</td>\n",
       "      <td>0.868278</td>\n",
       "      <td>52346.72</td>\n",
       "      <td>0.867684</td>\n",
       "      <td>52005.73</td>\n",
       "      <td>1.01</td>\n",
       "    </tr>\n",
       "    <tr>\n",
       "      <th>4</th>\n",
       "      <td>Random Forest Regression (all features)</td>\n",
       "      <td>0.986453</td>\n",
       "      <td>16787.25</td>\n",
       "      <td>0.971665</td>\n",
       "      <td>24066.13</td>\n",
       "      <td>12.91</td>\n",
       "    </tr>\n",
       "    <tr>\n",
       "      <th>5</th>\n",
       "      <td>ExtraTrees Regression (all features)</td>\n",
       "      <td>0.981505</td>\n",
       "      <td>19615.07</td>\n",
       "      <td>0.969752</td>\n",
       "      <td>24865.35</td>\n",
       "      <td>7.85</td>\n",
       "    </tr>\n",
       "  </tbody>\n",
       "</table>\n",
       "</div>"
      ],
      "text/plain": [
       "                                     model  train_r2_score  train_rmse  \\\n",
       "0            Linear Regression (1 feature)        0.424661   109401.40   \n",
       "1         Linear Regression (all features)        0.868281    52346.16   \n",
       "2          Lasso Regression (all features)        0.864321    53127.28   \n",
       "3          Ridge Regression (all features)        0.868278    52346.72   \n",
       "4  Random Forest Regression (all features)        0.986453    16787.25   \n",
       "5     ExtraTrees Regression (all features)        0.981505    19615.07   \n",
       "\n",
       "   test_r2_score  test_rmse  fit_time (min)  \n",
       "0       0.431538  107794.18            0.00  \n",
       "1       0.867689   52004.64            0.00  \n",
       "2       0.863654   52791.83            0.20  \n",
       "3       0.867684   52005.73            1.01  \n",
       "4       0.971665   24066.13           12.91  \n",
       "5       0.969752   24865.35            7.85  "
      ]
     },
     "execution_count": 90,
     "metadata": {},
     "output_type": "execute_result"
    }
   ],
   "source": [
    "results_df = append_result(results_df, train_score, train_rmse, test_score, test_rmse, fit_time,\n",
    "                           'ExtraTrees Regression (all features)')\n",
    "results_df"
   ]
  },
  {
   "cell_type": "markdown",
   "id": "00d385c8",
   "metadata": {},
   "source": [
    "## Feature importance"
   ]
  },
  {
   "cell_type": "code",
   "execution_count": 91,
   "id": "cc3abaac",
   "metadata": {},
   "outputs": [],
   "source": [
    "et_feature_df = pd.DataFrame({'feature_name': X_train.columns,\n",
    "                              'feature_importance': et.feature_importances_})"
   ]
  },
  {
   "cell_type": "code",
   "execution_count": 92,
   "id": "76aff48c",
   "metadata": {},
   "outputs": [
    {
     "data": {
      "text/html": [
       "<div>\n",
       "<style scoped>\n",
       "    .dataframe tbody tr th:only-of-type {\n",
       "        vertical-align: middle;\n",
       "    }\n",
       "\n",
       "    .dataframe tbody tr th {\n",
       "        vertical-align: top;\n",
       "    }\n",
       "\n",
       "    .dataframe thead th {\n",
       "        text-align: right;\n",
       "    }\n",
       "</style>\n",
       "<table border=\"1\" class=\"dataframe\">\n",
       "  <thead>\n",
       "    <tr style=\"text-align: right;\">\n",
       "      <th></th>\n",
       "      <th>feature_name</th>\n",
       "      <th>feature_importance</th>\n",
       "    </tr>\n",
       "  </thead>\n",
       "  <tbody>\n",
       "    <tr>\n",
       "      <th>35</th>\n",
       "      <td>flat_type_3 ROOM</td>\n",
       "      <td>0.241156</td>\n",
       "    </tr>\n",
       "    <tr>\n",
       "      <th>5</th>\n",
       "      <td>nearest_mall_dist</td>\n",
       "      <td>0.193007</td>\n",
       "    </tr>\n",
       "    <tr>\n",
       "      <th>0</th>\n",
       "      <td>age</td>\n",
       "      <td>0.077383</td>\n",
       "    </tr>\n",
       "    <tr>\n",
       "      <th>7</th>\n",
       "      <td>avg_storey</td>\n",
       "      <td>0.073418</td>\n",
       "    </tr>\n",
       "    <tr>\n",
       "      <th>36</th>\n",
       "      <td>flat_type_4 ROOM</td>\n",
       "      <td>0.072834</td>\n",
       "    </tr>\n",
       "    <tr>\n",
       "      <th>38</th>\n",
       "      <td>flat_type_EXECUTIVE</td>\n",
       "      <td>0.044414</td>\n",
       "    </tr>\n",
       "    <tr>\n",
       "      <th>34</th>\n",
       "      <td>flat_type_2 ROOM</td>\n",
       "      <td>0.036621</td>\n",
       "    </tr>\n",
       "    <tr>\n",
       "      <th>37</th>\n",
       "      <td>flat_type_5 ROOM</td>\n",
       "      <td>0.031002</td>\n",
       "    </tr>\n",
       "    <tr>\n",
       "      <th>6</th>\n",
       "      <td>dist_cbd</td>\n",
       "      <td>0.028244</td>\n",
       "    </tr>\n",
       "    <tr>\n",
       "      <th>8</th>\n",
       "      <td>year_dummy</td>\n",
       "      <td>0.028177</td>\n",
       "    </tr>\n",
       "    <tr>\n",
       "      <th>1</th>\n",
       "      <td>floor_area_sqf</td>\n",
       "      <td>0.023888</td>\n",
       "    </tr>\n",
       "    <tr>\n",
       "      <th>42</th>\n",
       "      <td>flat_model_DBSS</td>\n",
       "      <td>0.016108</td>\n",
       "    </tr>\n",
       "    <tr>\n",
       "      <th>46</th>\n",
       "      <td>flat_model_Model A</td>\n",
       "      <td>0.013720</td>\n",
       "    </tr>\n",
       "    <tr>\n",
       "      <th>26</th>\n",
       "      <td>town_QUEENSTOWN</td>\n",
       "      <td>0.011076</td>\n",
       "    </tr>\n",
       "    <tr>\n",
       "      <th>19</th>\n",
       "      <td>town_HOUGANG</td>\n",
       "      <td>0.008753</td>\n",
       "    </tr>\n",
       "    <tr>\n",
       "      <th>4</th>\n",
       "      <td>nearest_secondary_school_dist</td>\n",
       "      <td>0.007724</td>\n",
       "    </tr>\n",
       "    <tr>\n",
       "      <th>10</th>\n",
       "      <td>town_BISHAN</td>\n",
       "      <td>0.006349</td>\n",
       "    </tr>\n",
       "    <tr>\n",
       "      <th>9</th>\n",
       "      <td>town_BEDOK</td>\n",
       "      <td>0.006118</td>\n",
       "    </tr>\n",
       "    <tr>\n",
       "      <th>43</th>\n",
       "      <td>flat_model_Improved</td>\n",
       "      <td>0.005801</td>\n",
       "    </tr>\n",
       "    <tr>\n",
       "      <th>12</th>\n",
       "      <td>town_BUKIT MERAH</td>\n",
       "      <td>0.005714</td>\n",
       "    </tr>\n",
       "  </tbody>\n",
       "</table>\n",
       "</div>"
      ],
      "text/plain": [
       "                     feature_name  feature_importance\n",
       "35               flat_type_3 ROOM            0.241156\n",
       "5               nearest_mall_dist            0.193007\n",
       "0                             age            0.077383\n",
       "7                      avg_storey            0.073418\n",
       "36               flat_type_4 ROOM            0.072834\n",
       "38            flat_type_EXECUTIVE            0.044414\n",
       "34               flat_type_2 ROOM            0.036621\n",
       "37               flat_type_5 ROOM            0.031002\n",
       "6                        dist_cbd            0.028244\n",
       "8                      year_dummy            0.028177\n",
       "1                  floor_area_sqf            0.023888\n",
       "42                flat_model_DBSS            0.016108\n",
       "46             flat_model_Model A            0.013720\n",
       "26                town_QUEENSTOWN            0.011076\n",
       "19                   town_HOUGANG            0.008753\n",
       "4   nearest_secondary_school_dist            0.007724\n",
       "10                    town_BISHAN            0.006349\n",
       "9                      town_BEDOK            0.006118\n",
       "43            flat_model_Improved            0.005801\n",
       "12               town_BUKIT MERAH            0.005714"
      ]
     },
     "execution_count": 92,
     "metadata": {},
     "output_type": "execute_result"
    }
   ],
   "source": [
    "et_feature_df.sort_values(by='feature_importance', ascending=False).head(20)"
   ]
  },
  {
   "cell_type": "code",
   "execution_count": 93,
   "id": "2a87c442",
   "metadata": {},
   "outputs": [
    {
     "data": {
      "image/png": "[encoded data removed]",
      "text/plain": [
       "<Figure size 720x720 with 1 Axes>"
      ]
     },
     "metadata": {
      "needs_background": "light"
     },
     "output_type": "display_data"
    }
   ],
   "source": [
    "et_top20 = et_feature_df.sort_values(by='feature_importance', ascending=False).head(20)\n",
    "\n",
    "fig, ax = plt.subplots(figsize=(10,10))\n",
    "sns.barplot(data=et_top20, y='feature_name', x='feature_importance', palette='viridis')\n",
    "\n",
    "plt.title('Features Importance')\n",
    "plt.tight_layout()\n",
    "plt.show()"
   ]
  },
  {
   "cell_type": "markdown",
   "id": "ee0a9802",
   "metadata": {},
   "source": [
    "By sorting the values from the largest to lowest, the table above shows the top 20 feature importance in predicting a HDB's resale price.\n"
   ]
  },
  {
   "cell_type": "markdown",
   "id": "8e07de4c",
   "metadata": {},
   "source": [
    "# XG Boost Regression"
   ]
  },
  {
   "cell_type": "markdown",
   "id": "21aaa499",
   "metadata": {},
   "source": [
    "XG Boost or Extreme Gradient Boosting is a form of iterative learning in which the model will predict something initially and self analyze its mistakesand give more weightage to the data points in which it made a wrong prediction in the next iteration. This process continues as a cycle and it optimizes itself for each iteration.\n",
    "\n",
    "This is unlike Random Forest or ExtraTrees which is just a collection of trees in which each of them gives a prediction and we collect the outputs from all the trees and considers an aggregation (mean/median/mode) of this collection as the prediction of this forest. At a high level, it seems fine but there is a possibility that some trees could have made predictions with some random chances."
   ]
  },
  {
   "cell_type": "code",
   "execution_count": 94,
   "id": "4979ad39",
   "metadata": {},
   "outputs": [],
   "source": [
    "# instantiate model\n",
    "xg = XGBRegressor(random_state=100)"
   ]
  },
  {
   "cell_type": "code",
   "execution_count": 95,
   "id": "cb16a80c",
   "metadata": {
    "scrolled": false
   },
   "outputs": [
    {
     "data": {
      "text/plain": [
       "{'objective': 'reg:squarederror',\n",
       " 'base_score': None,\n",
       " 'booster': None,\n",
       " 'colsample_bylevel': None,\n",
       " 'colsample_bynode': None,\n",
       " 'colsample_bytree': None,\n",
       " 'gamma': None,\n",
       " 'gpu_id': None,\n",
       " 'importance_type': 'gain',\n",
       " 'interaction_constraints': None,\n",
       " 'learning_rate': None,\n",
       " 'max_delta_step': None,\n",
       " 'max_depth': None,\n",
       " 'min_child_weight': None,\n",
       " 'missing': nan,\n",
       " 'monotone_constraints': None,\n",
       " 'n_estimators': 100,\n",
       " 'n_jobs': None,\n",
       " 'num_parallel_tree': None,\n",
       " 'random_state': 100,\n",
       " 'reg_alpha': None,\n",
       " 'reg_lambda': None,\n",
       " 'scale_pos_weight': None,\n",
       " 'subsample': None,\n",
       " 'tree_method': None,\n",
       " 'validate_parameters': None,\n",
       " 'verbosity': None}"
      ]
     },
     "execution_count": 95,
     "metadata": {},
     "output_type": "execute_result"
    }
   ],
   "source": [
    "xg.get_params()"
   ]
  },
  {
   "cell_type": "code",
   "execution_count": 96,
   "id": "e322ea70",
   "metadata": {},
   "outputs": [
    {
     "data": {
      "text/plain": [
       "26591.57609843153"
      ]
     },
     "execution_count": 96,
     "metadata": {},
     "output_type": "execute_result"
    }
   ],
   "source": [
    "# cross validate with default model parameters\n",
    "np.sqrt(-cross_val_score(xg, \n",
    "                         X_train_sc, y_train, scoring='neg_mean_squared_error')).mean()"
   ]
  },
  {
   "cell_type": "code",
   "execution_count": 97,
   "id": "ce40b5f8",
   "metadata": {},
   "outputs": [],
   "source": [
    "xg_params = {\n",
    "    'learning_rate': [0.1],                  # 0.01, 0.03, 0.05, 0.1, 0.2\n",
    "    'n_estimators': [250],                   # 100, 150, 200, 250, 300, 350, 400\n",
    "    'max_depth': [9],                        # 5, 10, 15, 20\n",
    "    'colsample_bytree': [0.5],               # 0.3, 0.5, 0.7\n",
    "    'subsample': [0.8]                       # 0.6, 0.8, 1\n",
    "}"
   ]
  },
  {
   "cell_type": "markdown",
   "id": "5271f223",
   "metadata": {},
   "source": [
    "[Hyper parameter tuning](https://towardsdatascience.com/xgboost-fine-tune-and-optimize-your-model-23d996fab663):\n",
    "\n",
    "- learning_rate: The learning rate determines the step size at each iteration while your model optimizes toward its objective. A low learning rate makes computation slower, and requires more rounds to achieve the same reduction in residual error as a model with a high learning rate. But it optimizes the chances to reach the best optimum. Default is 0.3\n",
    "- max_depth: Maximum depth of a tree. Increasing this value will make the model more complex and more likely to overfit\n",
    "- colsample_bytree: the subsample ratio of columns when constructing each tree. Subsampling occurs once for every tree constructed"
   ]
  },
  {
   "cell_type": "markdown",
   "id": "f022486b",
   "metadata": {},
   "source": [
    "Colsample_bytree and subsample add randomness to make training robust to noise."
   ]
  },
  {
   "cell_type": "code",
   "execution_count": 98,
   "id": "717a3f35",
   "metadata": {},
   "outputs": [],
   "source": [
    "gs_xg = GridSearchCV(xg, xg_params, verbose=1, n_jobs=-1, scoring='neg_mean_squared_error')"
   ]
  },
  {
   "cell_type": "code",
   "execution_count": 99,
   "id": "1b80a557",
   "metadata": {},
   "outputs": [
    {
     "name": "stdout",
     "output_type": "stream",
     "text": [
      "Fitting 5 folds for each of 1 candidates, totalling 5 fits\n"
     ]
    }
   ],
   "source": [
    "# fit gridsearch model\n",
    "start = time.time()\n",
    "gs_xg.fit(X_train_sc, y_train)\n",
    "end = time.time()"
   ]
  },
  {
   "cell_type": "code",
   "execution_count": 100,
   "id": "98bfa43c",
   "metadata": {},
   "outputs": [
    {
     "data": {
      "text/plain": [
       "3.018499966462453"
      ]
     },
     "execution_count": 100,
     "metadata": {},
     "output_type": "execute_result"
    }
   ],
   "source": [
    "(end-start)/60"
   ]
  },
  {
   "cell_type": "code",
   "execution_count": 101,
   "id": "25a24ddc",
   "metadata": {},
   "outputs": [
    {
     "data": {
      "text/plain": [
       "23708.35217487562"
      ]
     },
     "execution_count": 101,
     "metadata": {},
     "output_type": "execute_result"
    }
   ],
   "source": [
    "# RMSE score\n",
    "np.sqrt(-gs_xg.best_score_)"
   ]
  },
  {
   "cell_type": "code",
   "execution_count": 102,
   "id": "8b3d82d1",
   "metadata": {},
   "outputs": [
    {
     "data": {
      "text/plain": [
       "{'colsample_bytree': 0.5,\n",
       " 'learning_rate': 0.1,\n",
       " 'max_depth': 9,\n",
       " 'n_estimators': 250,\n",
       " 'subsample': 0.8}"
      ]
     },
     "execution_count": 102,
     "metadata": {},
     "output_type": "execute_result"
    }
   ],
   "source": [
    "gs_xg.best_params_"
   ]
  },
  {
   "cell_type": "code",
   "execution_count": 103,
   "id": "86055832",
   "metadata": {},
   "outputs": [],
   "source": [
    "# 7th Nov\n",
    "\n",
    "# RMSE: 23719 for\n",
    "# 75 mins, 80 fits\n",
    "\n",
    "#{'colsample_bytree': 0.5,       vs 0.7\n",
    "# 'learning_rate': 0.1,         vs 0.2\n",
    "# 'max_depth': 9,               vs 7\n",
    "# 'n_estimators': 250           vs 200\n",
    "# 'subsample': 0.8}             vs 0.6, 1\n",
    "\n",
    "# 6th Nov\n",
    "\n",
    "# RMSE: 26071 for \n",
    "\n",
    "#{'colsample_bytree': 0.7,       vs 0.3, 0.5\n",
    "# 'learning_rate': 0.1,         vs 0.03, 0.05\n",
    "# 'max_depth': 7,               vs 3, 5\n",
    "# 'n_estimators': 200           vs 100, 150\n",
    "# 'subsample': 0.8}\n",
    "\n",
    "\n",
    "# 5th Nov\n",
    "\n",
    "# RMSE: 22805 for \n",
    "\n",
    "#{'colsample_bytree': 0.5,\n",
    "# 'learning_rate': 0.03,\n",
    "# 'max_depth': 15,\n",
    "# 'n_estimators': 300}\n",
    "\n",
    "# RMSE: 22,733 for \n",
    "\n",
    "#{'xg__colsample_bytree': 0.5,\n",
    "# 'xg__learning_rate': 0.05,\n",
    "# 'xg__max_depth': 15,\n",
    "# 'xg__n_estimators': 300}"
   ]
  },
  {
   "cell_type": "markdown",
   "id": "894c0c7f",
   "metadata": {},
   "source": [
    "## Use model with best params"
   ]
  },
  {
   "cell_type": "code",
   "execution_count": 104,
   "id": "72637084",
   "metadata": {},
   "outputs": [],
   "source": [
    "xg = XGBRegressor(colsample_bytree=0.5, learning_rate=0.1, max_depth=9, n_estimators=250, subsample=0.8, random_state=100)"
   ]
  },
  {
   "cell_type": "code",
   "execution_count": 105,
   "id": "74a9253f",
   "metadata": {},
   "outputs": [
    {
     "data": {
      "text/plain": [
       "XGBRegressor(base_score=0.5, booster='gbtree', colsample_bylevel=1,\n",
       "             colsample_bynode=1, colsample_bytree=0.5, gamma=0, gpu_id=-1,\n",
       "             importance_type='gain', interaction_constraints='',\n",
       "             learning_rate=0.1, max_delta_step=0, max_depth=9,\n",
       "             min_child_weight=1, missing=nan, monotone_constraints='()',\n",
       "             n_estimators=250, n_jobs=8, num_parallel_tree=1, random_state=100,\n",
       "             reg_alpha=0, reg_lambda=1, scale_pos_weight=1, subsample=0.8,\n",
       "             tree_method='exact', validate_parameters=1, verbosity=None)"
      ]
     },
     "execution_count": 105,
     "metadata": {},
     "output_type": "execute_result"
    }
   ],
   "source": [
    "xg.fit(X_train_sc, y_train)"
   ]
  },
  {
   "cell_type": "code",
   "execution_count": 106,
   "id": "320d3735",
   "metadata": {},
   "outputs": [],
   "source": [
    "train_score = xg.score(X_train_sc, y_train)\n",
    "test_score = xg.score(X_test_sc, y_test)\n",
    "train_rmse = np.sqrt(mean_squared_error(y_train, xg.predict(X_train_sc)))\n",
    "test_rmse = np.sqrt(mean_squared_error(y_test, xg.predict(X_test_sc)))\n",
    "fit_time = (end - start) / 60"
   ]
  },
  {
   "cell_type": "code",
   "execution_count": 107,
   "id": "7c73f063",
   "metadata": {
    "scrolled": true
   },
   "outputs": [
    {
     "data": {
      "text/html": [
       "<div>\n",
       "<style scoped>\n",
       "    .dataframe tbody tr th:only-of-type {\n",
       "        vertical-align: middle;\n",
       "    }\n",
       "\n",
       "    .dataframe tbody tr th {\n",
       "        vertical-align: top;\n",
       "    }\n",
       "\n",
       "    .dataframe thead th {\n",
       "        text-align: right;\n",
       "    }\n",
       "</style>\n",
       "<table border=\"1\" class=\"dataframe\">\n",
       "  <thead>\n",
       "    <tr style=\"text-align: right;\">\n",
       "      <th></th>\n",
       "      <th>model</th>\n",
       "      <th>train_r2_score</th>\n",
       "      <th>train_rmse</th>\n",
       "      <th>test_r2_score</th>\n",
       "      <th>test_rmse</th>\n",
       "      <th>fit_time (min)</th>\n",
       "    </tr>\n",
       "  </thead>\n",
       "  <tbody>\n",
       "    <tr>\n",
       "      <th>0</th>\n",
       "      <td>Linear Regression (1 feature)</td>\n",
       "      <td>0.424661</td>\n",
       "      <td>109401.40</td>\n",
       "      <td>0.431538</td>\n",
       "      <td>107794.18</td>\n",
       "      <td>0.00</td>\n",
       "    </tr>\n",
       "    <tr>\n",
       "      <th>1</th>\n",
       "      <td>Linear Regression (all features)</td>\n",
       "      <td>0.868281</td>\n",
       "      <td>52346.16</td>\n",
       "      <td>0.867689</td>\n",
       "      <td>52004.64</td>\n",
       "      <td>0.00</td>\n",
       "    </tr>\n",
       "    <tr>\n",
       "      <th>2</th>\n",
       "      <td>Lasso Regression (all features)</td>\n",
       "      <td>0.864321</td>\n",
       "      <td>53127.28</td>\n",
       "      <td>0.863654</td>\n",
       "      <td>52791.83</td>\n",
       "      <td>0.20</td>\n",
       "    </tr>\n",
       "    <tr>\n",
       "      <th>3</th>\n",
       "      <td>Ridge Regression (all features)</td>\n",
       "      <td>0.868278</td>\n",
       "      <td>52346.72</td>\n",
       "      <td>0.867684</td>\n",
       "      <td>52005.73</td>\n",
       "      <td>1.01</td>\n",
       "    </tr>\n",
       "    <tr>\n",
       "      <th>4</th>\n",
       "      <td>Random Forest Regression (all features)</td>\n",
       "      <td>0.986453</td>\n",
       "      <td>16787.25</td>\n",
       "      <td>0.971665</td>\n",
       "      <td>24066.13</td>\n",
       "      <td>12.91</td>\n",
       "    </tr>\n",
       "    <tr>\n",
       "      <th>5</th>\n",
       "      <td>ExtraTrees Regression (all features)</td>\n",
       "      <td>0.981505</td>\n",
       "      <td>19615.07</td>\n",
       "      <td>0.969752</td>\n",
       "      <td>24865.35</td>\n",
       "      <td>7.85</td>\n",
       "    </tr>\n",
       "    <tr>\n",
       "      <th>6</th>\n",
       "      <td>XGBoost Regression (all features)</td>\n",
       "      <td>0.980930</td>\n",
       "      <td>19917.77</td>\n",
       "      <td>0.973277</td>\n",
       "      <td>23371.65</td>\n",
       "      <td>3.02</td>\n",
       "    </tr>\n",
       "  </tbody>\n",
       "</table>\n",
       "</div>"
      ],
      "text/plain": [
       "                                     model  train_r2_score  train_rmse  \\\n",
       "0            Linear Regression (1 feature)        0.424661   109401.40   \n",
       "1         Linear Regression (all features)        0.868281    52346.16   \n",
       "2          Lasso Regression (all features)        0.864321    53127.28   \n",
       "3          Ridge Regression (all features)        0.868278    52346.72   \n",
       "4  Random Forest Regression (all features)        0.986453    16787.25   \n",
       "5     ExtraTrees Regression (all features)        0.981505    19615.07   \n",
       "6        XGBoost Regression (all features)        0.980930    19917.77   \n",
       "\n",
       "   test_r2_score  test_rmse  fit_time (min)  \n",
       "0       0.431538  107794.18            0.00  \n",
       "1       0.867689   52004.64            0.00  \n",
       "2       0.863654   52791.83            0.20  \n",
       "3       0.867684   52005.73            1.01  \n",
       "4       0.971665   24066.13           12.91  \n",
       "5       0.969752   24865.35            7.85  \n",
       "6       0.973277   23371.65            3.02  "
      ]
     },
     "execution_count": 107,
     "metadata": {},
     "output_type": "execute_result"
    }
   ],
   "source": [
    "results_df = append_result(results_df, train_score, train_rmse, test_score, test_rmse, fit_time, \n",
    "                           'XGBoost Regression (all features)')\n",
    "results_df"
   ]
  },
  {
   "cell_type": "markdown",
   "id": "d96ddf2c",
   "metadata": {},
   "source": [
    "## Feature importance"
   ]
  },
  {
   "cell_type": "code",
   "execution_count": 108,
   "id": "91daaa7d",
   "metadata": {},
   "outputs": [],
   "source": [
    "xg_feature_df = pd.DataFrame({'feature_name': X_train.columns,\n",
    "                              'feature_importance': xg.feature_importances_})"
   ]
  },
  {
   "cell_type": "code",
   "execution_count": 109,
   "id": "00804d05",
   "metadata": {
    "scrolled": true
   },
   "outputs": [
    {
     "data": {
      "text/html": [
       "<div>\n",
       "<style scoped>\n",
       "    .dataframe tbody tr th:only-of-type {\n",
       "        vertical-align: middle;\n",
       "    }\n",
       "\n",
       "    .dataframe tbody tr th {\n",
       "        vertical-align: top;\n",
       "    }\n",
       "\n",
       "    .dataframe thead th {\n",
       "        text-align: right;\n",
       "    }\n",
       "</style>\n",
       "<table border=\"1\" class=\"dataframe\">\n",
       "  <thead>\n",
       "    <tr style=\"text-align: right;\">\n",
       "      <th></th>\n",
       "      <th>feature_name</th>\n",
       "      <th>feature_importance</th>\n",
       "    </tr>\n",
       "  </thead>\n",
       "  <tbody>\n",
       "    <tr>\n",
       "      <th>38</th>\n",
       "      <td>flat_type_EXECUTIVE</td>\n",
       "      <td>0.143971</td>\n",
       "    </tr>\n",
       "    <tr>\n",
       "      <th>35</th>\n",
       "      <td>flat_type_3 ROOM</td>\n",
       "      <td>0.102436</td>\n",
       "    </tr>\n",
       "    <tr>\n",
       "      <th>42</th>\n",
       "      <td>flat_model_DBSS</td>\n",
       "      <td>0.064333</td>\n",
       "    </tr>\n",
       "    <tr>\n",
       "      <th>37</th>\n",
       "      <td>flat_type_5 ROOM</td>\n",
       "      <td>0.063942</td>\n",
       "    </tr>\n",
       "    <tr>\n",
       "      <th>34</th>\n",
       "      <td>flat_type_2 ROOM</td>\n",
       "      <td>0.051567</td>\n",
       "    </tr>\n",
       "    <tr>\n",
       "      <th>56</th>\n",
       "      <td>flat_model_Type S1</td>\n",
       "      <td>0.050064</td>\n",
       "    </tr>\n",
       "    <tr>\n",
       "      <th>12</th>\n",
       "      <td>town_BUKIT MERAH</td>\n",
       "      <td>0.047958</td>\n",
       "    </tr>\n",
       "    <tr>\n",
       "      <th>36</th>\n",
       "      <td>flat_type_4 ROOM</td>\n",
       "      <td>0.043104</td>\n",
       "    </tr>\n",
       "    <tr>\n",
       "      <th>7</th>\n",
       "      <td>avg_storey</td>\n",
       "      <td>0.034568</td>\n",
       "    </tr>\n",
       "    <tr>\n",
       "      <th>10</th>\n",
       "      <td>town_BISHAN</td>\n",
       "      <td>0.029914</td>\n",
       "    </tr>\n",
       "    <tr>\n",
       "      <th>5</th>\n",
       "      <td>nearest_mall_dist</td>\n",
       "      <td>0.024685</td>\n",
       "    </tr>\n",
       "    <tr>\n",
       "      <th>26</th>\n",
       "      <td>town_QUEENSTOWN</td>\n",
       "      <td>0.023372</td>\n",
       "    </tr>\n",
       "    <tr>\n",
       "      <th>32</th>\n",
       "      <td>town_WOODLANDS</td>\n",
       "      <td>0.021510</td>\n",
       "    </tr>\n",
       "    <tr>\n",
       "      <th>57</th>\n",
       "      <td>flat_model_Type S2</td>\n",
       "      <td>0.017421</td>\n",
       "    </tr>\n",
       "    <tr>\n",
       "      <th>52</th>\n",
       "      <td>flat_model_Premium Apartment Loft</td>\n",
       "      <td>0.016795</td>\n",
       "    </tr>\n",
       "    <tr>\n",
       "      <th>14</th>\n",
       "      <td>town_BUKIT TIMAH</td>\n",
       "      <td>0.016060</td>\n",
       "    </tr>\n",
       "    <tr>\n",
       "      <th>15</th>\n",
       "      <td>town_CENTRAL AREA</td>\n",
       "      <td>0.015501</td>\n",
       "    </tr>\n",
       "    <tr>\n",
       "      <th>0</th>\n",
       "      <td>age</td>\n",
       "      <td>0.014565</td>\n",
       "    </tr>\n",
       "    <tr>\n",
       "      <th>43</th>\n",
       "      <td>flat_model_Improved</td>\n",
       "      <td>0.012503</td>\n",
       "    </tr>\n",
       "    <tr>\n",
       "      <th>39</th>\n",
       "      <td>flat_type_MULTI-GENERATION</td>\n",
       "      <td>0.012445</td>\n",
       "    </tr>\n",
       "  </tbody>\n",
       "</table>\n",
       "</div>"
      ],
      "text/plain": [
       "                         feature_name  feature_importance\n",
       "38                flat_type_EXECUTIVE            0.143971\n",
       "35                   flat_type_3 ROOM            0.102436\n",
       "42                    flat_model_DBSS            0.064333\n",
       "37                   flat_type_5 ROOM            0.063942\n",
       "34                   flat_type_2 ROOM            0.051567\n",
       "56                 flat_model_Type S1            0.050064\n",
       "12                   town_BUKIT MERAH            0.047958\n",
       "36                   flat_type_4 ROOM            0.043104\n",
       "7                          avg_storey            0.034568\n",
       "10                        town_BISHAN            0.029914\n",
       "5                   nearest_mall_dist            0.024685\n",
       "26                    town_QUEENSTOWN            0.023372\n",
       "32                     town_WOODLANDS            0.021510\n",
       "57                 flat_model_Type S2            0.017421\n",
       "52  flat_model_Premium Apartment Loft            0.016795\n",
       "14                   town_BUKIT TIMAH            0.016060\n",
       "15                  town_CENTRAL AREA            0.015501\n",
       "0                                 age            0.014565\n",
       "43                flat_model_Improved            0.012503\n",
       "39         flat_type_MULTI-GENERATION            0.012445"
      ]
     },
     "execution_count": 109,
     "metadata": {},
     "output_type": "execute_result"
    }
   ],
   "source": [
    "xg_top20 = xg_feature_df.sort_values(by='feature_importance', ascending=False).head(20)\n",
    "xg_top20"
   ]
  },
  {
   "cell_type": "code",
   "execution_count": 110,
   "id": "df12b3af",
   "metadata": {
    "scrolled": false
   },
   "outputs": [
    {
     "data": {
      "image/png": "[encoded data removed]",
      "text/plain": [
       "<Figure size 720x720 with 1 Axes>"
      ]
     },
     "metadata": {
      "needs_background": "light"
     },
     "output_type": "display_data"
    }
   ],
   "source": [
    "fig, ax = plt.subplots(figsize=(10,10))\n",
    "sns.barplot(data=xg_top20, y='feature_name', x='feature_importance', palette='viridis')\n",
    "\n",
    "plt.title('Features Importance')\n",
    "plt.tight_layout()\n",
    "plt.show()"
   ]
  },
  {
   "cell_type": "markdown",
   "id": "1a51f6d9",
   "metadata": {},
   "source": [
    "<b> More elaboration here as XG Boost is our best model </b>\n",
    "\n",
    "Importance provides a score that indicates how useful or valuable each feature was in the construction of the boosted decision trees within the model. The more an attribute is used to make key decisions with decision trees, the higher its relative importance.\n",
    "\n",
    "Importance is calculated for a single decision tree by the amount that each attribute split point improves the performance measure, weighted by the number of observations the node is responsible for.\n",
    "\n",
    "The table above shows the top 20 features/variables which most influenced a HDB's resale price:\n",
    "\n",
    "1. Overall, we had more physical housing features such as flat type and flat model, followed by location based features like the town in which the HDB apartments were found in. Interestingly, a feature like floor area did not make it onto the list.\n",
    "\n",
    "2. Specifically, flat types like executive, 2-room, 3-room and 5-room were in the top 5 features. Flat types generally would correlate with the area of the apartments and made logical sense to be present in the list. \n",
    "\n",
    "3. We noticed that towns located in the central part of Singapore made it into the list (with the exception of Woodlands), which plays into the perception that well located real estate would greatly influence its price.\n",
    "\n",
    "3. Interestingly, proximity to nearest mall was the only distance based feature making into the list, which meant that proximity to malls had a greater influence in price than proximity to schools and mrt stations. \n",
    "\n",
    "4. age correlates negatively with price and it is unsurprising that it is a top ranking features. Furthermore, considering that HDBs are leasehold in nature, it would be natural that people would want to buy newer flats, thus an important feature\n",
    "\n"
   ]
  },
  {
   "cell_type": "markdown",
   "id": "f29ab9f3",
   "metadata": {},
   "source": [
    "# Neural Network"
   ]
  },
  {
   "cell_type": "markdown",
   "id": "4b6b673e",
   "metadata": {},
   "source": [
    "The modeling for the neural network can be found in the next notebook. This has been done purposefully so that we can concurrently train different models at the same time to make more time efficient."
   ]
  },
  {
   "cell_type": "markdown",
   "id": "ef7e3726",
   "metadata": {},
   "source": [
    "# Model evaluation"
   ]
  },
  {
   "attachments": {
    "image-5.png": {
     "image/png": "[encoded data removed]"
    },
    "image-6.png": {
     "image/png": "[encoded data removed]"
    }
   },
   "cell_type": "markdown",
   "id": "ca8c34fe",
   "metadata": {},
   "source": [
    "![image-5.png](attachment:image-5.png)\n",
    "![image-6.png](attachment:image-6.png)"
   ]
  },
  {
   "cell_type": "markdown",
   "id": "eec2f036",
   "metadata": {},
   "source": [
    "- Linear regression and Ridge regression performed closely with similar test RMSE\n",
    "- On the other hand, Lasso regression performed worse compared to the above 2\n",
    "- Overall, ensemble methods performed better\n",
    "- Unique to pricing related data, I realize that for tree based models, you would not want to train your trees which are too deep as it will overfit on the training data\n",
    "- We also note that the runtime for training XG Boost is much faster compared to Random Forest regression\n",
    "- For tree-based models, note that the more number of trees within the model, the longer the runtime. Therefore we would want to be conscious of the time spent tuning these models.\n",
    "- When there is too many trees to be run, there is a risk of memory error. Personally, the threshold for my computer was when I was trying to run 400 trees on gridsearch\n",
    "- Surprisingly, Neural Networks were trained much faster than Random Forest and XGBoost\n",
    "- Using RMSE as our guiding metric, XG Boost regression is the best model with the lowest test RMSE score"
   ]
  },
  {
   "cell_type": "markdown",
   "id": "a53f861f",
   "metadata": {},
   "source": [
    "Why might XG Boost perform the best?\n",
    "\n",
    "- It is a form of gradient boosting whereby the objective is to minimize the loss function of the model by adding weak learners using gradient descent. Gradient descent is an iterative optimization algorithm for finding a local minimum of differentiable function. As weak learners train on the remaining residual errors of a strong learner, it gives more importance and concentration to observations with high errors."
   ]
  },
  {
   "cell_type": "markdown",
   "id": "5dceb97c",
   "metadata": {},
   "source": [
    "# Summary"
   ]
  },
  {
   "cell_type": "markdown",
   "id": "1c2a4631",
   "metadata": {},
   "source": [
    "<b>HDB Resale Price Index beginning from 1990 until present day</b>"
   ]
  },
  {
   "attachments": {
    "image.png": {
     "image/png": "[encoded data removed]"
    }
   },
   "cell_type": "markdown",
   "id": "30ddd6cc",
   "metadata": {},
   "source": [
    "![image.png](attachment:image.png)"
   ]
  },
  {
   "cell_type": "markdown",
   "id": "dfedef63",
   "metadata": {},
   "source": [
    "From data.gov.sg"
   ]
  },
  {
   "cell_type": "markdown",
   "id": "5cee71f7",
   "metadata": {},
   "source": [
    "- Singapore's HDB resale market generally goes through several property cycles. Although not collected within the dataset for this project, a quick Google search would show that HDB resale saw a price boom in the 90s as Singapore's economy was developing rapidly. It ended in the late 90s when the Asian Financial Crisis happened. The 2000s saw some price stagnation in the first half of the decade and quickly accelerated in the second half\n",
    "- The model's predictive capacity is subjected to macro factors and policy changes which sometimes can be unforeseen and cause sharp changes in price trend\n",
    "- Most recently, the government just announced new policies to curb 'lottery effects' of well placed HDB BTO projects and and make public housing more equitable: Prime Location Public Housing (PLH) model \n",
    "- Going forward, these PLH projects will be subjected to more stringent measures at the point of resale.\n",
    "    - for example: longer MOP period would likely mean that there would less speculation. BTO applicants would likely be people who are more serious about long term house ownership and not using HDB as a stepping stone to cash out and upgrade to private housing"
   ]
  },
  {
   "cell_type": "markdown",
   "id": "6f60142a",
   "metadata": {},
   "source": [
    "## Next Steps\n",
    "\n"
   ]
  },
  {
   "cell_type": "markdown",
   "id": "4a253c61",
   "metadata": {},
   "source": [
    "- Retrain model with a larger dataset (use more historical HDB resale transactions)\n",
    "- Continue to retune our models' hyperparameters for better results\n",
    "- As an expansion of the project, I can collect private residential condo transactions and test our models' predictive capability\n",
    "- We will try to use Flask to deploy our model online to allow users to input some HDB features and see a price estimate as a guide for their HDB home purchase decision"
   ]
  },
  {
   "cell_type": "markdown",
   "id": "8cbc97f4",
   "metadata": {},
   "source": [
    "# Save best model for deployment using Flask"
   ]
  },
  {
   "cell_type": "code",
   "execution_count": 112,
   "id": "21f753fb",
   "metadata": {},
   "outputs": [],
   "source": [
    "# referenced from: https://blog.cambridgespark.com/deploying-a-machine-learning-model-to-the-web-725688b851c7"
   ]
  },
  {
   "cell_type": "code",
   "execution_count": 113,
   "id": "99905ebd",
   "metadata": {},
   "outputs": [],
   "source": [
    "pickle.dump(xg, open('webapp/model/hdb_model.p', 'wb'))"
   ]
  },
  {
   "cell_type": "markdown",
   "id": "ea05895c",
   "metadata": {},
   "source": [
    "# Save dummy variables to convert our user input during deployment"
   ]
  },
  {
   "cell_type": "code",
   "execution_count": 114,
   "id": "8b597d3b",
   "metadata": {},
   "outputs": [
    {
     "data": {
      "text/html": [
       "<div>\n",
       "<style scoped>\n",
       "    .dataframe tbody tr th:only-of-type {\n",
       "        vertical-align: middle;\n",
       "    }\n",
       "\n",
       "    .dataframe tbody tr th {\n",
       "        vertical-align: top;\n",
       "    }\n",
       "\n",
       "    .dataframe thead th {\n",
       "        text-align: right;\n",
       "    }\n",
       "</style>\n",
       "<table border=\"1\" class=\"dataframe\">\n",
       "  <thead>\n",
       "    <tr style=\"text-align: right;\">\n",
       "      <th></th>\n",
       "      <th>town_BEDOK</th>\n",
       "      <th>town_BISHAN</th>\n",
       "      <th>town_BUKIT BATOK</th>\n",
       "      <th>town_BUKIT MERAH</th>\n",
       "      <th>town_BUKIT PANJANG</th>\n",
       "      <th>town_BUKIT TIMAH</th>\n",
       "      <th>town_CENTRAL AREA</th>\n",
       "      <th>town_CHOA CHU KANG</th>\n",
       "      <th>town_CLEMENTI</th>\n",
       "      <th>town_GEYLANG</th>\n",
       "      <th>town_HOUGANG</th>\n",
       "      <th>town_JURONG EAST</th>\n",
       "      <th>town_JURONG WEST</th>\n",
       "      <th>town_KALLANG/WHAMPOA</th>\n",
       "      <th>town_MARINE PARADE</th>\n",
       "      <th>town_PASIR RIS</th>\n",
       "      <th>town_PUNGGOL</th>\n",
       "      <th>town_QUEENSTOWN</th>\n",
       "      <th>town_SEMBAWANG</th>\n",
       "      <th>town_SENGKANG</th>\n",
       "      <th>town_SERANGOON</th>\n",
       "      <th>town_TAMPINES</th>\n",
       "      <th>town_TOA PAYOH</th>\n",
       "      <th>town_WOODLANDS</th>\n",
       "      <th>town_YISHUN</th>\n",
       "      <th>flat_type_2 ROOM</th>\n",
       "      <th>flat_type_3 ROOM</th>\n",
       "      <th>flat_type_4 ROOM</th>\n",
       "      <th>flat_type_5 ROOM</th>\n",
       "      <th>flat_type_EXECUTIVE</th>\n",
       "      <th>flat_type_MULTI-GENERATION</th>\n",
       "      <th>flat_model_Adjoined flat</th>\n",
       "      <th>flat_model_Apartment</th>\n",
       "      <th>flat_model_DBSS</th>\n",
       "      <th>flat_model_Improved</th>\n",
       "      <th>flat_model_Improved-Maisonette</th>\n",
       "      <th>flat_model_Maisonette</th>\n",
       "      <th>flat_model_Model A</th>\n",
       "      <th>flat_model_Model A-Maisonette</th>\n",
       "      <th>flat_model_Model A2</th>\n",
       "      <th>flat_model_Multi Generation</th>\n",
       "      <th>flat_model_New Generation</th>\n",
       "      <th>flat_model_Premium Apartment</th>\n",
       "      <th>flat_model_Premium Apartment Loft</th>\n",
       "      <th>flat_model_Premium Maisonette</th>\n",
       "      <th>flat_model_Simplified</th>\n",
       "      <th>flat_model_Standard</th>\n",
       "      <th>flat_model_Type S1</th>\n",
       "      <th>flat_model_Type S2</th>\n",
       "    </tr>\n",
       "  </thead>\n",
       "  <tbody>\n",
       "    <tr>\n",
       "      <th>0</th>\n",
       "      <td>0.0</td>\n",
       "      <td>0.0</td>\n",
       "      <td>0.0</td>\n",
       "      <td>0.0</td>\n",
       "      <td>0.0</td>\n",
       "      <td>0.0</td>\n",
       "      <td>0.0</td>\n",
       "      <td>0.0</td>\n",
       "      <td>0.0</td>\n",
       "      <td>0.0</td>\n",
       "      <td>0.0</td>\n",
       "      <td>0.0</td>\n",
       "      <td>0.0</td>\n",
       "      <td>0.0</td>\n",
       "      <td>0.0</td>\n",
       "      <td>0.0</td>\n",
       "      <td>0.0</td>\n",
       "      <td>0.0</td>\n",
       "      <td>0.0</td>\n",
       "      <td>0.0</td>\n",
       "      <td>0.0</td>\n",
       "      <td>0.0</td>\n",
       "      <td>0.0</td>\n",
       "      <td>0.0</td>\n",
       "      <td>0.0</td>\n",
       "      <td>0.0</td>\n",
       "      <td>1.0</td>\n",
       "      <td>0.0</td>\n",
       "      <td>0.0</td>\n",
       "      <td>0.0</td>\n",
       "      <td>0.0</td>\n",
       "      <td>0.0</td>\n",
       "      <td>0.0</td>\n",
       "      <td>0.0</td>\n",
       "      <td>1.0</td>\n",
       "      <td>0.0</td>\n",
       "      <td>0.0</td>\n",
       "      <td>0.0</td>\n",
       "      <td>0.0</td>\n",
       "      <td>0.0</td>\n",
       "      <td>0.0</td>\n",
       "      <td>0.0</td>\n",
       "      <td>0.0</td>\n",
       "      <td>0.0</td>\n",
       "      <td>0.0</td>\n",
       "      <td>0.0</td>\n",
       "      <td>0.0</td>\n",
       "      <td>0.0</td>\n",
       "      <td>0.0</td>\n",
       "    </tr>\n",
       "    <tr>\n",
       "      <th>1</th>\n",
       "      <td>0.0</td>\n",
       "      <td>0.0</td>\n",
       "      <td>0.0</td>\n",
       "      <td>0.0</td>\n",
       "      <td>0.0</td>\n",
       "      <td>0.0</td>\n",
       "      <td>0.0</td>\n",
       "      <td>0.0</td>\n",
       "      <td>0.0</td>\n",
       "      <td>0.0</td>\n",
       "      <td>0.0</td>\n",
       "      <td>0.0</td>\n",
       "      <td>0.0</td>\n",
       "      <td>0.0</td>\n",
       "      <td>0.0</td>\n",
       "      <td>0.0</td>\n",
       "      <td>0.0</td>\n",
       "      <td>0.0</td>\n",
       "      <td>0.0</td>\n",
       "      <td>1.0</td>\n",
       "      <td>0.0</td>\n",
       "      <td>0.0</td>\n",
       "      <td>0.0</td>\n",
       "      <td>0.0</td>\n",
       "      <td>0.0</td>\n",
       "      <td>0.0</td>\n",
       "      <td>0.0</td>\n",
       "      <td>1.0</td>\n",
       "      <td>0.0</td>\n",
       "      <td>0.0</td>\n",
       "      <td>0.0</td>\n",
       "      <td>0.0</td>\n",
       "      <td>0.0</td>\n",
       "      <td>0.0</td>\n",
       "      <td>0.0</td>\n",
       "      <td>0.0</td>\n",
       "      <td>0.0</td>\n",
       "      <td>0.0</td>\n",
       "      <td>0.0</td>\n",
       "      <td>1.0</td>\n",
       "      <td>0.0</td>\n",
       "      <td>0.0</td>\n",
       "      <td>0.0</td>\n",
       "      <td>0.0</td>\n",
       "      <td>0.0</td>\n",
       "      <td>0.0</td>\n",
       "      <td>0.0</td>\n",
       "      <td>0.0</td>\n",
       "      <td>0.0</td>\n",
       "    </tr>\n",
       "    <tr>\n",
       "      <th>2</th>\n",
       "      <td>0.0</td>\n",
       "      <td>0.0</td>\n",
       "      <td>0.0</td>\n",
       "      <td>0.0</td>\n",
       "      <td>0.0</td>\n",
       "      <td>0.0</td>\n",
       "      <td>0.0</td>\n",
       "      <td>0.0</td>\n",
       "      <td>0.0</td>\n",
       "      <td>0.0</td>\n",
       "      <td>0.0</td>\n",
       "      <td>0.0</td>\n",
       "      <td>0.0</td>\n",
       "      <td>0.0</td>\n",
       "      <td>0.0</td>\n",
       "      <td>0.0</td>\n",
       "      <td>0.0</td>\n",
       "      <td>0.0</td>\n",
       "      <td>0.0</td>\n",
       "      <td>1.0</td>\n",
       "      <td>0.0</td>\n",
       "      <td>0.0</td>\n",
       "      <td>0.0</td>\n",
       "      <td>0.0</td>\n",
       "      <td>0.0</td>\n",
       "      <td>0.0</td>\n",
       "      <td>0.0</td>\n",
       "      <td>1.0</td>\n",
       "      <td>0.0</td>\n",
       "      <td>0.0</td>\n",
       "      <td>0.0</td>\n",
       "      <td>0.0</td>\n",
       "      <td>0.0</td>\n",
       "      <td>0.0</td>\n",
       "      <td>0.0</td>\n",
       "      <td>0.0</td>\n",
       "      <td>0.0</td>\n",
       "      <td>0.0</td>\n",
       "      <td>0.0</td>\n",
       "      <td>1.0</td>\n",
       "      <td>0.0</td>\n",
       "      <td>0.0</td>\n",
       "      <td>0.0</td>\n",
       "      <td>0.0</td>\n",
       "      <td>0.0</td>\n",
       "      <td>0.0</td>\n",
       "      <td>0.0</td>\n",
       "      <td>0.0</td>\n",
       "      <td>0.0</td>\n",
       "    </tr>\n",
       "    <tr>\n",
       "      <th>3</th>\n",
       "      <td>0.0</td>\n",
       "      <td>0.0</td>\n",
       "      <td>0.0</td>\n",
       "      <td>0.0</td>\n",
       "      <td>0.0</td>\n",
       "      <td>0.0</td>\n",
       "      <td>0.0</td>\n",
       "      <td>0.0</td>\n",
       "      <td>0.0</td>\n",
       "      <td>0.0</td>\n",
       "      <td>0.0</td>\n",
       "      <td>0.0</td>\n",
       "      <td>0.0</td>\n",
       "      <td>0.0</td>\n",
       "      <td>0.0</td>\n",
       "      <td>0.0</td>\n",
       "      <td>0.0</td>\n",
       "      <td>0.0</td>\n",
       "      <td>0.0</td>\n",
       "      <td>1.0</td>\n",
       "      <td>0.0</td>\n",
       "      <td>0.0</td>\n",
       "      <td>0.0</td>\n",
       "      <td>0.0</td>\n",
       "      <td>0.0</td>\n",
       "      <td>0.0</td>\n",
       "      <td>0.0</td>\n",
       "      <td>1.0</td>\n",
       "      <td>0.0</td>\n",
       "      <td>0.0</td>\n",
       "      <td>0.0</td>\n",
       "      <td>0.0</td>\n",
       "      <td>0.0</td>\n",
       "      <td>0.0</td>\n",
       "      <td>0.0</td>\n",
       "      <td>0.0</td>\n",
       "      <td>0.0</td>\n",
       "      <td>0.0</td>\n",
       "      <td>0.0</td>\n",
       "      <td>1.0</td>\n",
       "      <td>0.0</td>\n",
       "      <td>0.0</td>\n",
       "      <td>0.0</td>\n",
       "      <td>0.0</td>\n",
       "      <td>0.0</td>\n",
       "      <td>0.0</td>\n",
       "      <td>0.0</td>\n",
       "      <td>0.0</td>\n",
       "      <td>0.0</td>\n",
       "    </tr>\n",
       "    <tr>\n",
       "      <th>4</th>\n",
       "      <td>0.0</td>\n",
       "      <td>0.0</td>\n",
       "      <td>0.0</td>\n",
       "      <td>0.0</td>\n",
       "      <td>0.0</td>\n",
       "      <td>0.0</td>\n",
       "      <td>0.0</td>\n",
       "      <td>0.0</td>\n",
       "      <td>0.0</td>\n",
       "      <td>0.0</td>\n",
       "      <td>0.0</td>\n",
       "      <td>0.0</td>\n",
       "      <td>0.0</td>\n",
       "      <td>0.0</td>\n",
       "      <td>0.0</td>\n",
       "      <td>0.0</td>\n",
       "      <td>0.0</td>\n",
       "      <td>0.0</td>\n",
       "      <td>0.0</td>\n",
       "      <td>1.0</td>\n",
       "      <td>0.0</td>\n",
       "      <td>0.0</td>\n",
       "      <td>0.0</td>\n",
       "      <td>0.0</td>\n",
       "      <td>0.0</td>\n",
       "      <td>0.0</td>\n",
       "      <td>0.0</td>\n",
       "      <td>1.0</td>\n",
       "      <td>0.0</td>\n",
       "      <td>0.0</td>\n",
       "      <td>0.0</td>\n",
       "      <td>0.0</td>\n",
       "      <td>0.0</td>\n",
       "      <td>0.0</td>\n",
       "      <td>0.0</td>\n",
       "      <td>0.0</td>\n",
       "      <td>0.0</td>\n",
       "      <td>0.0</td>\n",
       "      <td>0.0</td>\n",
       "      <td>1.0</td>\n",
       "      <td>0.0</td>\n",
       "      <td>0.0</td>\n",
       "      <td>0.0</td>\n",
       "      <td>0.0</td>\n",
       "      <td>0.0</td>\n",
       "      <td>0.0</td>\n",
       "      <td>0.0</td>\n",
       "      <td>0.0</td>\n",
       "      <td>0.0</td>\n",
       "    </tr>\n",
       "    <tr>\n",
       "      <th>...</th>\n",
       "      <td>...</td>\n",
       "      <td>...</td>\n",
       "      <td>...</td>\n",
       "      <td>...</td>\n",
       "      <td>...</td>\n",
       "      <td>...</td>\n",
       "      <td>...</td>\n",
       "      <td>...</td>\n",
       "      <td>...</td>\n",
       "      <td>...</td>\n",
       "      <td>...</td>\n",
       "      <td>...</td>\n",
       "      <td>...</td>\n",
       "      <td>...</td>\n",
       "      <td>...</td>\n",
       "      <td>...</td>\n",
       "      <td>...</td>\n",
       "      <td>...</td>\n",
       "      <td>...</td>\n",
       "      <td>...</td>\n",
       "      <td>...</td>\n",
       "      <td>...</td>\n",
       "      <td>...</td>\n",
       "      <td>...</td>\n",
       "      <td>...</td>\n",
       "      <td>...</td>\n",
       "      <td>...</td>\n",
       "      <td>...</td>\n",
       "      <td>...</td>\n",
       "      <td>...</td>\n",
       "      <td>...</td>\n",
       "      <td>...</td>\n",
       "      <td>...</td>\n",
       "      <td>...</td>\n",
       "      <td>...</td>\n",
       "      <td>...</td>\n",
       "      <td>...</td>\n",
       "      <td>...</td>\n",
       "      <td>...</td>\n",
       "      <td>...</td>\n",
       "      <td>...</td>\n",
       "      <td>...</td>\n",
       "      <td>...</td>\n",
       "      <td>...</td>\n",
       "      <td>...</td>\n",
       "      <td>...</td>\n",
       "      <td>...</td>\n",
       "      <td>...</td>\n",
       "      <td>...</td>\n",
       "    </tr>\n",
       "    <tr>\n",
       "      <th>206186</th>\n",
       "      <td>0.0</td>\n",
       "      <td>0.0</td>\n",
       "      <td>0.0</td>\n",
       "      <td>0.0</td>\n",
       "      <td>0.0</td>\n",
       "      <td>0.0</td>\n",
       "      <td>0.0</td>\n",
       "      <td>0.0</td>\n",
       "      <td>0.0</td>\n",
       "      <td>0.0</td>\n",
       "      <td>0.0</td>\n",
       "      <td>0.0</td>\n",
       "      <td>0.0</td>\n",
       "      <td>0.0</td>\n",
       "      <td>0.0</td>\n",
       "      <td>1.0</td>\n",
       "      <td>0.0</td>\n",
       "      <td>0.0</td>\n",
       "      <td>0.0</td>\n",
       "      <td>0.0</td>\n",
       "      <td>0.0</td>\n",
       "      <td>0.0</td>\n",
       "      <td>0.0</td>\n",
       "      <td>0.0</td>\n",
       "      <td>0.0</td>\n",
       "      <td>0.0</td>\n",
       "      <td>0.0</td>\n",
       "      <td>1.0</td>\n",
       "      <td>0.0</td>\n",
       "      <td>0.0</td>\n",
       "      <td>0.0</td>\n",
       "      <td>0.0</td>\n",
       "      <td>0.0</td>\n",
       "      <td>0.0</td>\n",
       "      <td>0.0</td>\n",
       "      <td>0.0</td>\n",
       "      <td>0.0</td>\n",
       "      <td>1.0</td>\n",
       "      <td>0.0</td>\n",
       "      <td>0.0</td>\n",
       "      <td>0.0</td>\n",
       "      <td>0.0</td>\n",
       "      <td>0.0</td>\n",
       "      <td>0.0</td>\n",
       "      <td>0.0</td>\n",
       "      <td>0.0</td>\n",
       "      <td>0.0</td>\n",
       "      <td>0.0</td>\n",
       "      <td>0.0</td>\n",
       "    </tr>\n",
       "    <tr>\n",
       "      <th>206187</th>\n",
       "      <td>0.0</td>\n",
       "      <td>0.0</td>\n",
       "      <td>0.0</td>\n",
       "      <td>0.0</td>\n",
       "      <td>0.0</td>\n",
       "      <td>0.0</td>\n",
       "      <td>0.0</td>\n",
       "      <td>0.0</td>\n",
       "      <td>0.0</td>\n",
       "      <td>0.0</td>\n",
       "      <td>0.0</td>\n",
       "      <td>0.0</td>\n",
       "      <td>0.0</td>\n",
       "      <td>0.0</td>\n",
       "      <td>0.0</td>\n",
       "      <td>1.0</td>\n",
       "      <td>0.0</td>\n",
       "      <td>0.0</td>\n",
       "      <td>0.0</td>\n",
       "      <td>0.0</td>\n",
       "      <td>0.0</td>\n",
       "      <td>0.0</td>\n",
       "      <td>0.0</td>\n",
       "      <td>0.0</td>\n",
       "      <td>0.0</td>\n",
       "      <td>0.0</td>\n",
       "      <td>0.0</td>\n",
       "      <td>1.0</td>\n",
       "      <td>0.0</td>\n",
       "      <td>0.0</td>\n",
       "      <td>0.0</td>\n",
       "      <td>0.0</td>\n",
       "      <td>0.0</td>\n",
       "      <td>0.0</td>\n",
       "      <td>0.0</td>\n",
       "      <td>0.0</td>\n",
       "      <td>0.0</td>\n",
       "      <td>1.0</td>\n",
       "      <td>0.0</td>\n",
       "      <td>0.0</td>\n",
       "      <td>0.0</td>\n",
       "      <td>0.0</td>\n",
       "      <td>0.0</td>\n",
       "      <td>0.0</td>\n",
       "      <td>0.0</td>\n",
       "      <td>0.0</td>\n",
       "      <td>0.0</td>\n",
       "      <td>0.0</td>\n",
       "      <td>0.0</td>\n",
       "    </tr>\n",
       "    <tr>\n",
       "      <th>206188</th>\n",
       "      <td>0.0</td>\n",
       "      <td>0.0</td>\n",
       "      <td>0.0</td>\n",
       "      <td>0.0</td>\n",
       "      <td>0.0</td>\n",
       "      <td>0.0</td>\n",
       "      <td>0.0</td>\n",
       "      <td>0.0</td>\n",
       "      <td>0.0</td>\n",
       "      <td>0.0</td>\n",
       "      <td>0.0</td>\n",
       "      <td>0.0</td>\n",
       "      <td>0.0</td>\n",
       "      <td>0.0</td>\n",
       "      <td>0.0</td>\n",
       "      <td>1.0</td>\n",
       "      <td>0.0</td>\n",
       "      <td>0.0</td>\n",
       "      <td>0.0</td>\n",
       "      <td>0.0</td>\n",
       "      <td>0.0</td>\n",
       "      <td>0.0</td>\n",
       "      <td>0.0</td>\n",
       "      <td>0.0</td>\n",
       "      <td>0.0</td>\n",
       "      <td>0.0</td>\n",
       "      <td>0.0</td>\n",
       "      <td>0.0</td>\n",
       "      <td>1.0</td>\n",
       "      <td>0.0</td>\n",
       "      <td>0.0</td>\n",
       "      <td>0.0</td>\n",
       "      <td>0.0</td>\n",
       "      <td>0.0</td>\n",
       "      <td>1.0</td>\n",
       "      <td>0.0</td>\n",
       "      <td>0.0</td>\n",
       "      <td>0.0</td>\n",
       "      <td>0.0</td>\n",
       "      <td>0.0</td>\n",
       "      <td>0.0</td>\n",
       "      <td>0.0</td>\n",
       "      <td>0.0</td>\n",
       "      <td>0.0</td>\n",
       "      <td>0.0</td>\n",
       "      <td>0.0</td>\n",
       "      <td>0.0</td>\n",
       "      <td>0.0</td>\n",
       "      <td>0.0</td>\n",
       "    </tr>\n",
       "    <tr>\n",
       "      <th>206189</th>\n",
       "      <td>0.0</td>\n",
       "      <td>0.0</td>\n",
       "      <td>0.0</td>\n",
       "      <td>0.0</td>\n",
       "      <td>0.0</td>\n",
       "      <td>0.0</td>\n",
       "      <td>0.0</td>\n",
       "      <td>0.0</td>\n",
       "      <td>1.0</td>\n",
       "      <td>0.0</td>\n",
       "      <td>0.0</td>\n",
       "      <td>0.0</td>\n",
       "      <td>0.0</td>\n",
       "      <td>0.0</td>\n",
       "      <td>0.0</td>\n",
       "      <td>0.0</td>\n",
       "      <td>0.0</td>\n",
       "      <td>0.0</td>\n",
       "      <td>0.0</td>\n",
       "      <td>0.0</td>\n",
       "      <td>0.0</td>\n",
       "      <td>0.0</td>\n",
       "      <td>0.0</td>\n",
       "      <td>0.0</td>\n",
       "      <td>0.0</td>\n",
       "      <td>0.0</td>\n",
       "      <td>0.0</td>\n",
       "      <td>1.0</td>\n",
       "      <td>0.0</td>\n",
       "      <td>0.0</td>\n",
       "      <td>0.0</td>\n",
       "      <td>0.0</td>\n",
       "      <td>0.0</td>\n",
       "      <td>0.0</td>\n",
       "      <td>0.0</td>\n",
       "      <td>0.0</td>\n",
       "      <td>0.0</td>\n",
       "      <td>0.0</td>\n",
       "      <td>0.0</td>\n",
       "      <td>0.0</td>\n",
       "      <td>0.0</td>\n",
       "      <td>1.0</td>\n",
       "      <td>0.0</td>\n",
       "      <td>0.0</td>\n",
       "      <td>0.0</td>\n",
       "      <td>0.0</td>\n",
       "      <td>0.0</td>\n",
       "      <td>0.0</td>\n",
       "      <td>0.0</td>\n",
       "    </tr>\n",
       "    <tr>\n",
       "      <th>206190</th>\n",
       "      <td>0.0</td>\n",
       "      <td>0.0</td>\n",
       "      <td>0.0</td>\n",
       "      <td>1.0</td>\n",
       "      <td>0.0</td>\n",
       "      <td>0.0</td>\n",
       "      <td>0.0</td>\n",
       "      <td>0.0</td>\n",
       "      <td>0.0</td>\n",
       "      <td>0.0</td>\n",
       "      <td>0.0</td>\n",
       "      <td>0.0</td>\n",
       "      <td>0.0</td>\n",
       "      <td>0.0</td>\n",
       "      <td>0.0</td>\n",
       "      <td>0.0</td>\n",
       "      <td>0.0</td>\n",
       "      <td>0.0</td>\n",
       "      <td>0.0</td>\n",
       "      <td>0.0</td>\n",
       "      <td>0.0</td>\n",
       "      <td>0.0</td>\n",
       "      <td>0.0</td>\n",
       "      <td>0.0</td>\n",
       "      <td>0.0</td>\n",
       "      <td>0.0</td>\n",
       "      <td>0.0</td>\n",
       "      <td>1.0</td>\n",
       "      <td>0.0</td>\n",
       "      <td>0.0</td>\n",
       "      <td>0.0</td>\n",
       "      <td>0.0</td>\n",
       "      <td>0.0</td>\n",
       "      <td>0.0</td>\n",
       "      <td>0.0</td>\n",
       "      <td>0.0</td>\n",
       "      <td>0.0</td>\n",
       "      <td>1.0</td>\n",
       "      <td>0.0</td>\n",
       "      <td>0.0</td>\n",
       "      <td>0.0</td>\n",
       "      <td>0.0</td>\n",
       "      <td>0.0</td>\n",
       "      <td>0.0</td>\n",
       "      <td>0.0</td>\n",
       "      <td>0.0</td>\n",
       "      <td>0.0</td>\n",
       "      <td>0.0</td>\n",
       "      <td>0.0</td>\n",
       "    </tr>\n",
       "  </tbody>\n",
       "</table>\n",
       "<p>206191 rows × 49 columns</p>\n",
       "</div>"
      ],
      "text/plain": [
       "        town_BEDOK  town_BISHAN  town_BUKIT BATOK  town_BUKIT MERAH  \\\n",
       "0              0.0          0.0               0.0               0.0   \n",
       "1              0.0          0.0               0.0               0.0   \n",
       "2              0.0          0.0               0.0               0.0   \n",
       "3              0.0          0.0               0.0               0.0   \n",
       "4              0.0          0.0               0.0               0.0   \n",
       "...            ...          ...               ...               ...   \n",
       "206186         0.0          0.0               0.0               0.0   \n",
       "206187         0.0          0.0               0.0               0.0   \n",
       "206188         0.0          0.0               0.0               0.0   \n",
       "206189         0.0          0.0               0.0               0.0   \n",
       "206190         0.0          0.0               0.0               1.0   \n",
       "\n",
       "        town_BUKIT PANJANG  town_BUKIT TIMAH  town_CENTRAL AREA  \\\n",
       "0                      0.0               0.0                0.0   \n",
       "1                      0.0               0.0                0.0   \n",
       "2                      0.0               0.0                0.0   \n",
       "3                      0.0               0.0                0.0   \n",
       "4                      0.0               0.0                0.0   \n",
       "...                    ...               ...                ...   \n",
       "206186                 0.0               0.0                0.0   \n",
       "206187                 0.0               0.0                0.0   \n",
       "206188                 0.0               0.0                0.0   \n",
       "206189                 0.0               0.0                0.0   \n",
       "206190                 0.0               0.0                0.0   \n",
       "\n",
       "        town_CHOA CHU KANG  town_CLEMENTI  town_GEYLANG  town_HOUGANG  \\\n",
       "0                      0.0            0.0           0.0           0.0   \n",
       "1                      0.0            0.0           0.0           0.0   \n",
       "2                      0.0            0.0           0.0           0.0   \n",
       "3                      0.0            0.0           0.0           0.0   \n",
       "4                      0.0            0.0           0.0           0.0   \n",
       "...                    ...            ...           ...           ...   \n",
       "206186                 0.0            0.0           0.0           0.0   \n",
       "206187                 0.0            0.0           0.0           0.0   \n",
       "206188                 0.0            0.0           0.0           0.0   \n",
       "206189                 0.0            1.0           0.0           0.0   \n",
       "206190                 0.0            0.0           0.0           0.0   \n",
       "\n",
       "        town_JURONG EAST  town_JURONG WEST  town_KALLANG/WHAMPOA  \\\n",
       "0                    0.0               0.0                   0.0   \n",
       "1                    0.0               0.0                   0.0   \n",
       "2                    0.0               0.0                   0.0   \n",
       "3                    0.0               0.0                   0.0   \n",
       "4                    0.0               0.0                   0.0   \n",
       "...                  ...               ...                   ...   \n",
       "206186               0.0               0.0                   0.0   \n",
       "206187               0.0               0.0                   0.0   \n",
       "206188               0.0               0.0                   0.0   \n",
       "206189               0.0               0.0                   0.0   \n",
       "206190               0.0               0.0                   0.0   \n",
       "\n",
       "        town_MARINE PARADE  town_PASIR RIS  town_PUNGGOL  town_QUEENSTOWN  \\\n",
       "0                      0.0             0.0           0.0              0.0   \n",
       "1                      0.0             0.0           0.0              0.0   \n",
       "2                      0.0             0.0           0.0              0.0   \n",
       "3                      0.0             0.0           0.0              0.0   \n",
       "4                      0.0             0.0           0.0              0.0   \n",
       "...                    ...             ...           ...              ...   \n",
       "206186                 0.0             1.0           0.0              0.0   \n",
       "206187                 0.0             1.0           0.0              0.0   \n",
       "206188                 0.0             1.0           0.0              0.0   \n",
       "206189                 0.0             0.0           0.0              0.0   \n",
       "206190                 0.0             0.0           0.0              0.0   \n",
       "\n",
       "        town_SEMBAWANG  town_SENGKANG  town_SERANGOON  town_TAMPINES  \\\n",
       "0                  0.0            0.0             0.0            0.0   \n",
       "1                  0.0            1.0             0.0            0.0   \n",
       "2                  0.0            1.0             0.0            0.0   \n",
       "3                  0.0            1.0             0.0            0.0   \n",
       "4                  0.0            1.0             0.0            0.0   \n",
       "...                ...            ...             ...            ...   \n",
       "206186             0.0            0.0             0.0            0.0   \n",
       "206187             0.0            0.0             0.0            0.0   \n",
       "206188             0.0            0.0             0.0            0.0   \n",
       "206189             0.0            0.0             0.0            0.0   \n",
       "206190             0.0            0.0             0.0            0.0   \n",
       "\n",
       "        town_TOA PAYOH  town_WOODLANDS  town_YISHUN  flat_type_2 ROOM  \\\n",
       "0                  0.0             0.0          0.0               0.0   \n",
       "1                  0.0             0.0          0.0               0.0   \n",
       "2                  0.0             0.0          0.0               0.0   \n",
       "3                  0.0             0.0          0.0               0.0   \n",
       "4                  0.0             0.0          0.0               0.0   \n",
       "...                ...             ...          ...               ...   \n",
       "206186             0.0             0.0          0.0               0.0   \n",
       "206187             0.0             0.0          0.0               0.0   \n",
       "206188             0.0             0.0          0.0               0.0   \n",
       "206189             0.0             0.0          0.0               0.0   \n",
       "206190             0.0             0.0          0.0               0.0   \n",
       "\n",
       "        flat_type_3 ROOM  flat_type_4 ROOM  flat_type_5 ROOM  \\\n",
       "0                    1.0               0.0               0.0   \n",
       "1                    0.0               1.0               0.0   \n",
       "2                    0.0               1.0               0.0   \n",
       "3                    0.0               1.0               0.0   \n",
       "4                    0.0               1.0               0.0   \n",
       "...                  ...               ...               ...   \n",
       "206186               0.0               1.0               0.0   \n",
       "206187               0.0               1.0               0.0   \n",
       "206188               0.0               0.0               1.0   \n",
       "206189               0.0               1.0               0.0   \n",
       "206190               0.0               1.0               0.0   \n",
       "\n",
       "        flat_type_EXECUTIVE  flat_type_MULTI-GENERATION  \\\n",
       "0                       0.0                         0.0   \n",
       "1                       0.0                         0.0   \n",
       "2                       0.0                         0.0   \n",
       "3                       0.0                         0.0   \n",
       "4                       0.0                         0.0   \n",
       "...                     ...                         ...   \n",
       "206186                  0.0                         0.0   \n",
       "206187                  0.0                         0.0   \n",
       "206188                  0.0                         0.0   \n",
       "206189                  0.0                         0.0   \n",
       "206190                  0.0                         0.0   \n",
       "\n",
       "        flat_model_Adjoined flat  flat_model_Apartment  flat_model_DBSS  \\\n",
       "0                            0.0                   0.0              0.0   \n",
       "1                            0.0                   0.0              0.0   \n",
       "2                            0.0                   0.0              0.0   \n",
       "3                            0.0                   0.0              0.0   \n",
       "4                            0.0                   0.0              0.0   \n",
       "...                          ...                   ...              ...   \n",
       "206186                       0.0                   0.0              0.0   \n",
       "206187                       0.0                   0.0              0.0   \n",
       "206188                       0.0                   0.0              0.0   \n",
       "206189                       0.0                   0.0              0.0   \n",
       "206190                       0.0                   0.0              0.0   \n",
       "\n",
       "        flat_model_Improved  flat_model_Improved-Maisonette  \\\n",
       "0                       1.0                             0.0   \n",
       "1                       0.0                             0.0   \n",
       "2                       0.0                             0.0   \n",
       "3                       0.0                             0.0   \n",
       "4                       0.0                             0.0   \n",
       "...                     ...                             ...   \n",
       "206186                  0.0                             0.0   \n",
       "206187                  0.0                             0.0   \n",
       "206188                  1.0                             0.0   \n",
       "206189                  0.0                             0.0   \n",
       "206190                  0.0                             0.0   \n",
       "\n",
       "        flat_model_Maisonette  flat_model_Model A  \\\n",
       "0                         0.0                 0.0   \n",
       "1                         0.0                 0.0   \n",
       "2                         0.0                 0.0   \n",
       "3                         0.0                 0.0   \n",
       "4                         0.0                 0.0   \n",
       "...                       ...                 ...   \n",
       "206186                    0.0                 1.0   \n",
       "206187                    0.0                 1.0   \n",
       "206188                    0.0                 0.0   \n",
       "206189                    0.0                 0.0   \n",
       "206190                    0.0                 1.0   \n",
       "\n",
       "        flat_model_Model A-Maisonette  flat_model_Model A2  \\\n",
       "0                                 0.0                  0.0   \n",
       "1                                 0.0                  1.0   \n",
       "2                                 0.0                  1.0   \n",
       "3                                 0.0                  1.0   \n",
       "4                                 0.0                  1.0   \n",
       "...                               ...                  ...   \n",
       "206186                            0.0                  0.0   \n",
       "206187                            0.0                  0.0   \n",
       "206188                            0.0                  0.0   \n",
       "206189                            0.0                  0.0   \n",
       "206190                            0.0                  0.0   \n",
       "\n",
       "        flat_model_Multi Generation  flat_model_New Generation  \\\n",
       "0                               0.0                        0.0   \n",
       "1                               0.0                        0.0   \n",
       "2                               0.0                        0.0   \n",
       "3                               0.0                        0.0   \n",
       "4                               0.0                        0.0   \n",
       "...                             ...                        ...   \n",
       "206186                          0.0                        0.0   \n",
       "206187                          0.0                        0.0   \n",
       "206188                          0.0                        0.0   \n",
       "206189                          0.0                        1.0   \n",
       "206190                          0.0                        0.0   \n",
       "\n",
       "        flat_model_Premium Apartment  flat_model_Premium Apartment Loft  \\\n",
       "0                                0.0                                0.0   \n",
       "1                                0.0                                0.0   \n",
       "2                                0.0                                0.0   \n",
       "3                                0.0                                0.0   \n",
       "4                                0.0                                0.0   \n",
       "...                              ...                                ...   \n",
       "206186                           0.0                                0.0   \n",
       "206187                           0.0                                0.0   \n",
       "206188                           0.0                                0.0   \n",
       "206189                           0.0                                0.0   \n",
       "206190                           0.0                                0.0   \n",
       "\n",
       "        flat_model_Premium Maisonette  flat_model_Simplified  \\\n",
       "0                                 0.0                    0.0   \n",
       "1                                 0.0                    0.0   \n",
       "2                                 0.0                    0.0   \n",
       "3                                 0.0                    0.0   \n",
       "4                                 0.0                    0.0   \n",
       "...                               ...                    ...   \n",
       "206186                            0.0                    0.0   \n",
       "206187                            0.0                    0.0   \n",
       "206188                            0.0                    0.0   \n",
       "206189                            0.0                    0.0   \n",
       "206190                            0.0                    0.0   \n",
       "\n",
       "        flat_model_Standard  flat_model_Type S1  flat_model_Type S2  \n",
       "0                       0.0                 0.0                 0.0  \n",
       "1                       0.0                 0.0                 0.0  \n",
       "2                       0.0                 0.0                 0.0  \n",
       "3                       0.0                 0.0                 0.0  \n",
       "4                       0.0                 0.0                 0.0  \n",
       "...                     ...                 ...                 ...  \n",
       "206186                  0.0                 0.0                 0.0  \n",
       "206187                  0.0                 0.0                 0.0  \n",
       "206188                  0.0                 0.0                 0.0  \n",
       "206189                  0.0                 0.0                 0.0  \n",
       "206190                  0.0                 0.0                 0.0  \n",
       "\n",
       "[206191 rows x 49 columns]"
      ]
     },
     "execution_count": 114,
     "metadata": {},
     "output_type": "execute_result"
    }
   ],
   "source": [
    "enc_df"
   ]
  },
  {
   "cell_type": "code",
   "execution_count": 115,
   "id": "fa39f836",
   "metadata": {},
   "outputs": [],
   "source": [
    "cat_dict = dict(zip(enc_df.columns, range(enc_df.shape[1])))"
   ]
  },
  {
   "cell_type": "code",
   "execution_count": 116,
   "id": "c31f6380",
   "metadata": {},
   "outputs": [
    {
     "data": {
      "text/plain": [
       "{'town_BEDOK': 0,\n",
       " 'town_BISHAN': 1,\n",
       " 'town_BUKIT BATOK': 2,\n",
       " 'town_BUKIT MERAH': 3,\n",
       " 'town_BUKIT PANJANG': 4,\n",
       " 'town_BUKIT TIMAH': 5,\n",
       " 'town_CENTRAL AREA': 6,\n",
       " 'town_CHOA CHU KANG': 7,\n",
       " 'town_CLEMENTI': 8,\n",
       " 'town_GEYLANG': 9,\n",
       " 'town_HOUGANG': 10,\n",
       " 'town_JURONG EAST': 11,\n",
       " 'town_JURONG WEST': 12,\n",
       " 'town_KALLANG/WHAMPOA': 13,\n",
       " 'town_MARINE PARADE': 14,\n",
       " 'town_PASIR RIS': 15,\n",
       " 'town_PUNGGOL': 16,\n",
       " 'town_QUEENSTOWN': 17,\n",
       " 'town_SEMBAWANG': 18,\n",
       " 'town_SENGKANG': 19,\n",
       " 'town_SERANGOON': 20,\n",
       " 'town_TAMPINES': 21,\n",
       " 'town_TOA PAYOH': 22,\n",
       " 'town_WOODLANDS': 23,\n",
       " 'town_YISHUN': 24,\n",
       " 'flat_type_2 ROOM': 25,\n",
       " 'flat_type_3 ROOM': 26,\n",
       " 'flat_type_4 ROOM': 27,\n",
       " 'flat_type_5 ROOM': 28,\n",
       " 'flat_type_EXECUTIVE': 29,\n",
       " 'flat_type_MULTI-GENERATION': 30,\n",
       " 'flat_model_Adjoined flat': 31,\n",
       " 'flat_model_Apartment': 32,\n",
       " 'flat_model_DBSS': 33,\n",
       " 'flat_model_Improved': 34,\n",
       " 'flat_model_Improved-Maisonette': 35,\n",
       " 'flat_model_Maisonette': 36,\n",
       " 'flat_model_Model A': 37,\n",
       " 'flat_model_Model A-Maisonette': 38,\n",
       " 'flat_model_Model A2': 39,\n",
       " 'flat_model_Multi Generation': 40,\n",
       " 'flat_model_New Generation': 41,\n",
       " 'flat_model_Premium Apartment': 42,\n",
       " 'flat_model_Premium Apartment Loft': 43,\n",
       " 'flat_model_Premium Maisonette': 44,\n",
       " 'flat_model_Simplified': 45,\n",
       " 'flat_model_Standard': 46,\n",
       " 'flat_model_Type S1': 47,\n",
       " 'flat_model_Type S2': 48}"
      ]
     },
     "execution_count": 116,
     "metadata": {},
     "output_type": "execute_result"
    }
   ],
   "source": [
    "cat_dict"
   ]
  },
  {
   "cell_type": "code",
   "execution_count": 117,
   "id": "66dfd27c",
   "metadata": {},
   "outputs": [],
   "source": [
    "pickle.dump(cat_dict, open('webapp/model/cat_dict.p', 'wb'))"
   ]
  },
  {
   "cell_type": "code",
   "execution_count": null,
   "id": "5e9444e9",
   "metadata": {},
   "outputs": [],
   "source": []
  }
 ],
 "metadata": {
  "kernelspec": {
   "display_name": "Python 3 (ipykernel)",
   "language": "python",
   "name": "python3"
  },
  "language_info": {
   "codemirror_mode": {
    "name": "ipython",
    "version": 3
   },
   "file_extension": ".py",
   "mimetype": "text/x-python",
   "name": "python",
   "nbconvert_exporter": "python",
   "pygments_lexer": "ipython3",
   "version": "3.7.11"
  },
  "toc": {
   "base_numbering": 1,
   "nav_menu": {},
   "number_sections": true,
   "sideBar": true,
   "skip_h1_title": false,
   "title_cell": "Table of Contents",
   "title_sidebar": "Contents",
   "toc_cell": false,
   "toc_position": {
    "height": "calc(100% - 180px)",
    "left": "10px",
    "top": "150px",
    "width": "541.469px"
   },
   "toc_section_display": true,
   "toc_window_display": true
  }
 },
 "nbformat": 4,
 "nbformat_minor": 5
}
